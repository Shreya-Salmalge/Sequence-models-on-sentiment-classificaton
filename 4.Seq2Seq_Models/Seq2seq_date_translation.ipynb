{
  "cells": [
    {
      "cell_type": "code",
      "execution_count": null,
      "id": "6a26a0bc",
      "metadata": {
        "scrolled": true,
        "id": "6a26a0bc"
      },
      "outputs": [],
      "source": [
        "# from IPython.display import display,HTML\n",
        "# display(HTML('<style>.container {width: 98% !important}</style>'))"
      ]
    },
    {
      "cell_type": "code",
      "source": [
        "from google.colab import drive\n",
        "drive.mount('/content/drive')"
      ],
      "metadata": {
        "colab": {
          "base_uri": "https://localhost:8080/"
        },
        "id": "2D2orlFOSZdZ",
        "outputId": "136b03bf-e293-4072-e0a9-87bf608d1633"
      },
      "id": "2D2orlFOSZdZ",
      "execution_count": null,
      "outputs": [
        {
          "output_type": "stream",
          "name": "stdout",
          "text": [
            "Drive already mounted at /content/drive; to attempt to forcibly remount, call drive.mount(\"/content/drive\", force_remount=True).\n"
          ]
        }
      ]
    },
    {
      "cell_type": "code",
      "source": [
        "cd drive/MyDrive/dlnlp/assign4"
      ],
      "metadata": {
        "colab": {
          "base_uri": "https://localhost:8080/"
        },
        "id": "3ZI7q3lMSdqB",
        "outputId": "ddfe2758-4f0c-4c83-db5f-4b2e1db00e63"
      },
      "id": "3ZI7q3lMSdqB",
      "execution_count": null,
      "outputs": [
        {
          "output_type": "stream",
          "name": "stdout",
          "text": [
            "/content/drive/MyDrive/dlnlp/assign4\n"
          ]
        }
      ]
    },
    {
      "cell_type": "code",
      "execution_count": null,
      "id": "51482498",
      "metadata": {
        "id": "51482498"
      },
      "outputs": [],
      "source": [
        "%matplotlib inline"
      ]
    },
    {
      "cell_type": "code",
      "execution_count": null,
      "id": "3c41e0c0",
      "metadata": {
        "id": "3c41e0c0"
      },
      "outputs": [],
      "source": [
        "from __future__ import unicode_literals, print_function, division\n",
        "from io import open\n",
        "import unicodedata\n",
        "import string\n",
        "import re\n",
        "import random\n",
        "\n",
        "import torch\n",
        "import torch.nn as nn\n",
        "from torch import optim\n",
        "import torch.nn.functional as F\n",
        "import pandas as pd\n",
        "import matplotlib.pyplot as plt\n",
        "from sklearn.model_selection import train_test_split\n",
        "from sklearn.utils import shuffle\n",
        "from tqdm import tqdm\n",
        "\n",
        "device = torch.device(\"cuda\" if torch.cuda.is_available() else \"cpu\")\n"
      ]
    },
    {
      "cell_type": "code",
      "execution_count": null,
      "id": "8367f5d2",
      "metadata": {
        "id": "8367f5d2"
      },
      "outputs": [],
      "source": [
        "days=['sunday ','monday ','tuesday ','wednesday ','thursday ','friday ','saturday ','sun ','mon ','tue ','wed ','thu ','fri ','sat ',\"'\"]\n",
        "month={'january':'jan','february':'feb','march':'mar',\n",
        "       'april':'apr','june':'jun','july':'jul','august':'aug','september':'sept','sep':'sept','october':'oct','november':'nov',\n",
        "       'december':'dec'}\n"
      ]
    },
    {
      "cell_type": "code",
      "execution_count": null,
      "id": "11e7b8dc",
      "metadata": {
        "colab": {
          "base_uri": "https://localhost:8080/"
        },
        "id": "11e7b8dc",
        "outputId": "6804a393-94b8-4dc6-da90-8e22bd4f89aa"
      },
      "outputs": [
        {
          "output_type": "stream",
          "name": "stdout",
          "text": [
            "                       Source        Target\n",
            "0               'may 20 2034'  '2034-05-20'\n",
            "1                '9 may 1630'  '1630-05-09'\n",
            "2                '15/03/2014'  '2014-03-15'\n",
            "3               'mar 16 1675'  '1675-03-16'\n",
            "4               'jun 16 1640'  '1640-06-16'\n",
            "...                       ...           ...\n",
            "39995      'december 26 1900'  '1900-12-26'\n",
            "39996           '15 may 1828'  '1828-05-15'\n",
            "39997  'friday april 18 1851'  '1851-04-18'\n",
            "39998          'june 11 2070'  '2070-06-11'\n",
            "39999       'january 27 1712'  '1712-01-27'\n",
            "\n",
            "[40000 rows x 2 columns]\n"
          ]
        },
        {
          "output_type": "stream",
          "name": "stderr",
          "text": [
            "/usr/local/lib/python3.7/dist-packages/pandas/util/_decorators.py:311: ParserWarning: Falling back to the 'python' engine because the 'c' engine does not support regex separators (separators > 1 char and different from '\\s+' are interpreted as regex); you can avoid this warning by specifying engine='python'.\n",
            "  return func(*args, **kwargs)\n"
          ]
        }
      ],
      "source": [
        "cols=['Source','Target']\n",
        "df=pd.read_csv('Assignment4aDataset.txt',names=cols, sep=', ',header=None)\n",
        "print(df)"
      ]
    },
    {
      "cell_type": "code",
      "execution_count": null,
      "id": "ea161962",
      "metadata": {
        "scrolled": true,
        "colab": {
          "base_uri": "https://localhost:8080/"
        },
        "id": "ea161962",
        "outputId": "72bde5b7-0ad9-4d78-f6f9-fa6ab2e4cb99"
      },
      "outputs": [
        {
          "output_type": "stream",
          "name": "stderr",
          "text": [
            "/usr/local/lib/python3.7/dist-packages/ipykernel_launcher.py:2: FutureWarning: The default value of regex will change from True to False in a future version.\n",
            "  \n"
          ]
        }
      ],
      "source": [
        "regx = r'({})'.format('|'.join(days))\n",
        "df['Source'] = df['Source'].str.replace(regx, \"\").fillna(df['Source'])"
      ]
    },
    {
      "cell_type": "code",
      "execution_count": null,
      "id": "3999af6c",
      "metadata": {
        "colab": {
          "base_uri": "https://localhost:8080/"
        },
        "id": "3999af6c",
        "outputId": "af4b7459-4b7a-4031-d4eb-b6950f968cda"
      },
      "outputs": [
        {
          "output_type": "stream",
          "name": "stderr",
          "text": [
            "/usr/local/lib/python3.7/dist-packages/ipykernel_launcher.py:4: FutureWarning: The default value of regex will change from True to False in a future version.\n",
            "  after removing the cwd from sys.path.\n"
          ]
        }
      ],
      "source": [
        "# replace space with slash\n",
        "space=[' ']\n",
        "regx2 = r'({})'.format('|'.join(space))\n",
        "df['Source'] = df['Source'].str.replace(regx2, \"/\").fillna(df['Source'])"
      ]
    },
    {
      "cell_type": "code",
      "execution_count": null,
      "id": "3ce654c6",
      "metadata": {
        "id": "3ce654c6"
      },
      "outputs": [],
      "source": [
        "d2 = {r'(\\b){}(\\b)'.format(k):r'\\1{}\\2'.format(v) for k,v in month.items()}\n",
        "df['Source'] = df['Source'].replace(d2, regex=True)"
      ]
    },
    {
      "cell_type": "code",
      "execution_count": null,
      "id": "fdf4b883",
      "metadata": {
        "colab": {
          "base_uri": "https://localhost:8080/"
        },
        "id": "fdf4b883",
        "outputId": "9a7689fc-607f-4864-de21-2915c34fecef"
      },
      "outputs": [
        {
          "output_type": "stream",
          "name": "stderr",
          "text": [
            "/usr/local/lib/python3.7/dist-packages/ipykernel_launcher.py:3: FutureWarning: The default value of regex will change from True to False in a future version.\n",
            "  This is separate from the ipykernel package so we can avoid doing imports until\n"
          ]
        }
      ],
      "source": [
        "pre=[\"'\"]\n",
        "regx = r'({})'.format('|'.join(pre))\n",
        "df['Target'] = df['Target'].str.replace(regx, \"\").fillna(df['Target'])"
      ]
    },
    {
      "cell_type": "code",
      "execution_count": null,
      "id": "81083111",
      "metadata": {
        "colab": {
          "base_uri": "https://localhost:8080/"
        },
        "id": "81083111",
        "outputId": "7be67fef-d299-44a7-8ea6-adf310057bec"
      },
      "outputs": [
        {
          "output_type": "stream",
          "name": "stdout",
          "text": [
            "            Source      Target\n",
            "0      may/20/2034  2034-05-20\n",
            "1       9/may/1630  1630-05-09\n",
            "2       15/03/2014  2014-03-15\n",
            "3      mar/16/1675  1675-03-16\n",
            "4      jun/16/1640  1640-06-16\n",
            "...            ...         ...\n",
            "39995  dec/26/1900  1900-12-26\n",
            "39996  15/may/1828  1828-05-15\n",
            "39997  apr/18/1851  1851-04-18\n",
            "39998  jun/11/2070  2070-06-11\n",
            "39999  jan/27/1712  1712-01-27\n",
            "\n",
            "[40000 rows x 2 columns]\n",
            "36000\n",
            "4000\n"
          ]
        }
      ],
      "source": [
        "print(df)\n",
        "df_train, df_valid = train_test_split(df, test_size=0.1)\n",
        "print(len(df_train))\n",
        "print(len(df_valid))"
      ]
    },
    {
      "cell_type": "code",
      "execution_count": null,
      "id": "76fe97db",
      "metadata": {
        "id": "76fe97db"
      },
      "outputs": [],
      "source": [
        "SOS_token = 0\n",
        "EOS_token = 1\n",
        "MAX_LENGTH = 11\n",
        "\n",
        "class Lang:\n",
        "    def __init__(self, name):\n",
        "        self.name = name\n",
        "        self.word2index = {\"SOS\":0,\"EOS\":1}\n",
        "        self.word2count = {}\n",
        "        self.index2word = {0: \"SOS\", 1: \"EOS\"}\n",
        "        self.n_words = 2  # Count SOS and EOS\n",
        "\n",
        "    def addSentence(self, sentence,lang):\n",
        "        if lang=='Source':\n",
        "            words=[]\n",
        "            nums=[]\n",
        "            words=sentence.split('/')\n",
        "            for w in words:\n",
        "                if w.isdigit():\n",
        "                    nums.extend(c for c in w)\n",
        "                else:\n",
        "                    nums.append(w)\n",
        "\n",
        "                nums.append(\"/\")\n",
        "            nums=nums[:-1]\n",
        "            for num in nums:\n",
        "                self.addWord(num)\n",
        "                \n",
        "        else:\n",
        "            words=[]\n",
        "            nums=[]\n",
        "            words=sentence.split('-')\n",
        "            for w in words:\n",
        "                if w.isdigit():\n",
        "                    nums.extend(c for c in w)\n",
        "                else:\n",
        "                    nums.append(w)\n",
        "\n",
        "                nums.append(\"-\")\n",
        "            nums=nums[:-1]\n",
        "            for num in nums:\n",
        "                self.addWord(num)\n",
        "            \n",
        "            \n",
        "    def addWord(self, word):\n",
        "        if word not in self.word2index:\n",
        "            self.word2index[word] = self.n_words\n",
        "            self.word2count[word] = 1\n",
        "            self.index2word[self.n_words] = word\n",
        "            self.n_words += 1\n",
        "        else:\n",
        "            self.word2count[word] += 1"
      ]
    },
    {
      "cell_type": "code",
      "execution_count": null,
      "id": "8ee0f7d1",
      "metadata": {
        "id": "8ee0f7d1"
      },
      "outputs": [],
      "source": [
        "def readLangs(lang1, lang2):\n",
        "    print(\"Reading lines...\")\n",
        "\n",
        "    input_lang = Lang(lang1)\n",
        "    output_lang = Lang(lang2)\n",
        "\n",
        "    return input_lang, output_lang"
      ]
    },
    {
      "cell_type": "code",
      "execution_count": null,
      "id": "c0c8c718",
      "metadata": {
        "colab": {
          "base_uri": "https://localhost:8080/"
        },
        "id": "c0c8c718",
        "outputId": "623a0cbd-7561-4e6c-c7a1-73cd31c8fc16"
      },
      "outputs": [
        {
          "output_type": "stream",
          "name": "stdout",
          "text": [
            "Reading lines...\n",
            "Counting words...\n",
            "Counted words:\n",
            "Source 25\n",
            "Target 13\n",
            "{'SOS': 0, 'EOS': 1, '1': 2, '9': 3, '/': 4, 'nov': 5, '2': 6, '0': 7, '4': 8, 'jun': 9, '5': 10, '6': 11, '7': 12, 'may': 13, '8': 14, 'jul': 15, '3': 16, 'aug': 17, 'jan': 18, 'apr': 19, 'feb': 20, 'mar': 21, 'sept': 22, 'dec': 23, 'oct': 24}\n",
            "{'SOS': 0, 'EOS': 1, '2': 2, '0': 3, '4': 4, '-': 5, '1': 6, '9': 7, '5': 8, '6': 9, '7': 10, '8': 11, '3': 12}\n"
          ]
        }
      ],
      "source": [
        "def prepareData(lang1, lang2, df):\n",
        "    input_lang, output_lang = readLangs(lang1, lang2)\n",
        "\n",
        "\n",
        "    print(\"Counting words...\")\n",
        "    for i, row in enumerate(df.values):\n",
        "        input_lang.addSentence(row[0],lang1)\n",
        "        output_lang.addSentence(row[1],lang2)\n",
        "    print(\"Counted words:\")\n",
        "    print(input_lang.name, input_lang.n_words)\n",
        "    print(output_lang.name, output_lang.n_words)\n",
        "    return input_lang, output_lang\n",
        "\n",
        "\n",
        "input_lang, output_lang = prepareData('Source', 'Target',df_train)\n",
        "print(input_lang.word2index)\n",
        "print(output_lang.word2index)\n"
      ]
    },
    {
      "cell_type": "code",
      "execution_count": null,
      "id": "a48d7bca",
      "metadata": {
        "colab": {
          "base_uri": "https://localhost:8080/"
        },
        "id": "a48d7bca",
        "outputId": "8b5b1bde-613d-4fc1-c193-26cf58673feb"
      },
      "outputs": [
        {
          "output_type": "stream",
          "name": "stdout",
          "text": [
            "{0: 'SOS', 1: 'EOS', 2: '2', 3: '0', 4: '4', 5: '-', 6: '1', 7: '9', 8: '5', 9: '6', 10: '7', 11: '8', 12: '3'}\n"
          ]
        }
      ],
      "source": [
        "print(output_lang.index2word)"
      ]
    },
    {
      "cell_type": "code",
      "execution_count": null,
      "id": "39eacb4d",
      "metadata": {
        "id": "39eacb4d"
      },
      "outputs": [],
      "source": [
        "class EncoderRNN(nn.Module):\n",
        "    def __init__(self, input_size, hidden_size):\n",
        "        super(EncoderRNN, self).__init__()\n",
        "        self.hidden_size = hidden_size\n",
        "\n",
        "        self.embedding = nn.Embedding(input_size, hidden_size)\n",
        "        self.gru = nn.GRU(hidden_size, hidden_size)\n",
        "\n",
        "    def forward(self, input, hidden):\n",
        "        embedded = self.embedding(input).view(1, 1, -1)\n",
        "        output = embedded\n",
        "        output, hidden = self.gru(output, hidden)\n",
        "        return output, hidden\n",
        "\n",
        "    def initHidden(self):\n",
        "        return torch.zeros(1, 1, self.hidden_size, device=device)"
      ]
    },
    {
      "cell_type": "code",
      "execution_count": null,
      "id": "a9c3327b",
      "metadata": {
        "id": "a9c3327b"
      },
      "outputs": [],
      "source": [
        "class AttnDecoderRNN(nn.Module):\n",
        "    def __init__(self, hidden_size, output_size, dropout_p=0.1, max_length=MAX_LENGTH):\n",
        "        super(AttnDecoderRNN, self).__init__()\n",
        "        self.hidden_size = hidden_size\n",
        "        self.output_size = output_size\n",
        "        self.dropout_p = dropout_p\n",
        "        self.max_length = max_length\n",
        "\n",
        "        self.embedding = nn.Embedding(self.output_size, self.hidden_size)\n",
        "        self.attn = nn.Linear(self.hidden_size * 2, self.max_length)\n",
        "        self.attn_combine = nn.Linear(self.hidden_size * 2, self.hidden_size)\n",
        "        self.dropout = nn.Dropout(self.dropout_p)\n",
        "        self.gru = nn.GRU(self.hidden_size, self.hidden_size)\n",
        "        self.out = nn.Linear(self.hidden_size, self.output_size)\n",
        "\n",
        "    def forward(self, input, hidden, encoder_outputs):\n",
        "        embedded = self.embedding(input).view(1, 1, -1)\n",
        "        embedded = self.dropout(embedded)\n",
        "\n",
        "        attn_weights = F.softmax(\n",
        "            self.attn(torch.cat((embedded[0], hidden[0]), 1)), dim=1)\n",
        "        attn_applied = torch.bmm(attn_weights.unsqueeze(0),\n",
        "                                 encoder_outputs.unsqueeze(0))\n",
        "\n",
        "        output = torch.cat((embedded[0], attn_applied[0]), 1)\n",
        "        output = self.attn_combine(output).unsqueeze(0)\n",
        "\n",
        "        output = F.relu(output)\n",
        "        output, hidden = self.gru(output, hidden)\n",
        "\n",
        "        output = F.log_softmax(self.out(output[0]), dim=1)\n",
        "        return output, hidden, attn_weights\n",
        "\n",
        "    def initHidden(self):\n",
        "        return torch.zeros(1, 1, self.hidden_size, device=device)"
      ]
    },
    {
      "cell_type": "code",
      "execution_count": null,
      "id": "c553a4de",
      "metadata": {
        "id": "c553a4de"
      },
      "outputs": [],
      "source": [
        "def indexesFromSentence(lang, sentence , name):\n",
        "    if name=='Source':\n",
        "        words=[]\n",
        "        nums=[]\n",
        "        words=sentence.split('/')\n",
        "        for w in words:\n",
        "            if w.isdigit():\n",
        "                nums.extend(c for c in w)\n",
        "            else:\n",
        "                nums.append(w)\n",
        "\n",
        "            nums.append(\"/\")\n",
        "        nums=nums[:-1]\n",
        "        for num in nums:\n",
        "            lang.addWord(num)\n",
        "\n",
        "    else:\n",
        "        words=[]\n",
        "        nums=[]\n",
        "        words=sentence.split('-')\n",
        "        for w in words:\n",
        "            if w.isdigit():\n",
        "                nums.extend(c for c in w)\n",
        "            else:\n",
        "                nums.append(w)\n",
        "\n",
        "            nums.append(\"-\")\n",
        "        nums=nums[:-1]\n",
        "        for num in nums:\n",
        "            lang.addWord(num)\n",
        "            \n",
        "    return [lang.word2index[word] for word in nums]\n",
        "\n",
        "\n",
        "def tensorFromSentence(lang,sentence,name):\n",
        "    indexes = indexesFromSentence(lang, sentence,name)\n",
        "    indexes.append(EOS_token)\n",
        "    return torch.tensor(indexes, dtype=torch.long, device=device).view(-1, 1)\n",
        "\n",
        "\n",
        "def tensorsFromPair(pair):\n",
        "    input_tensor = tensorFromSentence(input_lang, pair[0],\"Source\")\n",
        "    target_tensor = tensorFromSentence(output_lang, pair[1],\"Target\")\n",
        "    return (input_tensor, target_tensor)\n",
        "\n"
      ]
    },
    {
      "cell_type": "code",
      "execution_count": null,
      "id": "b1266e4b",
      "metadata": {
        "id": "b1266e4b"
      },
      "outputs": [],
      "source": [
        "teacher_forcing_ratio = 1\n",
        "\n",
        "\n",
        "def train(input_tensor, target_tensor, encoder, decoder, encoder_optimizer, decoder_optimizer, criterion, max_length=MAX_LENGTH):\n",
        "    encoder_hidden = encoder.initHidden()\n",
        "\n",
        "    encoder_optimizer.zero_grad()\n",
        "    decoder_optimizer.zero_grad()\n",
        "\n",
        "    input_length = input_tensor.size(0)\n",
        "    target_length = target_tensor.size(0)\n",
        "\n",
        "    encoder_outputs = torch.zeros(max_length, encoder.hidden_size, device=device)\n",
        "\n",
        "    loss = 0\n",
        "\n",
        "    for ei in range(input_length):\n",
        "        encoder_output, encoder_hidden = encoder(\n",
        "            input_tensor[ei], encoder_hidden)\n",
        "        encoder_outputs[ei] = encoder_output[0, 0]\n",
        "\n",
        "    decoder_input = torch.tensor([[SOS_token]], device=device)\n",
        "\n",
        "    decoder_hidden = encoder_hidden\n",
        "\n",
        "    use_teacher_forcing = True if random.random() < teacher_forcing_ratio else False\n",
        "\n",
        "    if use_teacher_forcing:\n",
        "        # Teacher forcing: Feed the target as the next input\n",
        "        for di in range(target_length):\n",
        "            decoder_output, decoder_hidden, decoder_attention = decoder(\n",
        "                decoder_input, decoder_hidden, encoder_outputs)\n",
        "            loss += criterion(decoder_output, target_tensor[di])\n",
        "            decoder_input = target_tensor[di]  # Teacher forcing\n",
        "\n",
        "    else:\n",
        "        # Without teacher forcing: use its own predictions as the next input\n",
        "        for di in range(target_length):\n",
        "            decoder_output, decoder_hidden, decoder_attention = decoder(\n",
        "                decoder_input, decoder_hidden, encoder_outputs)\n",
        "            topv, topi = decoder_output.topk(1)\n",
        "            decoder_input = topi.squeeze().detach()  # detach from history as input\n",
        "\n",
        "            loss += criterion(decoder_output, target_tensor[di])\n",
        "            if decoder_input.item() == EOS_token:\n",
        "                break\n",
        "\n",
        "    loss.backward()\n",
        "\n",
        "    encoder_optimizer.step()\n",
        "    decoder_optimizer.step()\n",
        "\n",
        "    return loss.item() / target_length"
      ]
    },
    {
      "cell_type": "code",
      "execution_count": null,
      "id": "32a1686a",
      "metadata": {
        "id": "32a1686a"
      },
      "outputs": [],
      "source": [
        "import time\n",
        "import math\n",
        "\n",
        "def asMinutes(s):\n",
        "    m = math.floor(s / 60)\n",
        "    s -= m * 60\n",
        "    return '%dm %ds' % (m, s)\n",
        "\n",
        "def timeSince(since, percent):\n",
        "    now = time.time()\n",
        "    s = now - since\n",
        "    es = s / (percent)\n",
        "    rs = es - s\n",
        "    return '%s (- %s)' % (asMinutes(s), asMinutes(rs))"
      ]
    },
    {
      "cell_type": "code",
      "execution_count": null,
      "id": "33343f3a",
      "metadata": {
        "id": "33343f3a"
      },
      "outputs": [],
      "source": [
        "def validate(encoder, decoder, criterion,sentence,target, max_length=MAX_LENGTH):\n",
        "    with torch.no_grad():\n",
        "        \n",
        "        input_tensor,target_tensor = tensorsFromPair([sentence,target])\n",
        "        input_length = input_tensor.size()[0]\n",
        "        encoder_hidden = encoder.initHidden()\n",
        "\n",
        "        encoder_outputs = torch.zeros(max_length, encoder.hidden_size, device=device)\n",
        "\n",
        "        for ei in range(input_length):\n",
        "            encoder_output, encoder_hidden = encoder(input_tensor[ei],\n",
        "                                                     encoder_hidden)\n",
        "            encoder_outputs[ei] += encoder_output[0, 0]\n",
        "\n",
        "        decoder_input = torch.tensor([[SOS_token]], device=device)  # SOS\n",
        "\n",
        "        decoder_hidden = encoder_hidden\n",
        "\n",
        "        decoded_words = []\n",
        "        decoder_attentions = torch.zeros(max_length, max_length)\n",
        "        \n",
        "        pred=[]\n",
        "        loss=0\n",
        "        \n",
        "        for di in range(MAX_LENGTH):\n",
        "            decoder_output, decoder_hidden, decoder_attention = decoder(\n",
        "                decoder_input, decoder_hidden, encoder_outputs)\n",
        "            decoder_attentions[di] = decoder_attention.data\n",
        "            topv, topi = decoder_output.data.topk(1)\n",
        "            \n",
        "            loss += criterion(decoder_output, target_tensor[di])\n",
        "            \n",
        "            \n",
        "            # pred.append(topi[0][0]== target_tensor[di][0])\n",
        "            pred.append(topi[0][0].to('cpu')== target_tensor[di][0].to('cpu'))  ###### \n",
        "#             print(f'di:{di} topi={topi[0][0]} target_tensor[di] :{target_tensor[di][0]} ')\n",
        "            if topi.item() == EOS_token:\n",
        "                decoded_words.append('<EOS>')\n",
        "                while di<MAX_LENGTH-1:\n",
        "                    pred.append(False)\n",
        "#                     print(f'di adding {di}')\n",
        "\n",
        "                    di+=1\n",
        "                break\n",
        "            else:\n",
        "                decoded_words.append(output_lang.index2word[topi.item()])\n",
        "\n",
        "            decoder_input = topi.squeeze().detach()\n",
        "        \n",
        "#         print(len(pred))\n",
        "\n",
        "        return decoder_attentions[:di + 1],np.array(pred),loss"
      ]
    },
    {
      "cell_type": "code",
      "execution_count": null,
      "id": "1c343e67",
      "metadata": {
        "id": "1c343e67"
      },
      "outputs": [],
      "source": [
        "idx=0"
      ]
    },
    {
      "cell_type": "code",
      "execution_count": null,
      "id": "43d55ca8",
      "metadata": {
        "id": "43d55ca8"
      },
      "outputs": [],
      "source": [
        "def getPair():\n",
        "    global idx\n",
        "    global df_train\n",
        "#     print(idx)\n",
        "    if idx==0:\n",
        "        df_train = shuffle(df_train)\n",
        "        \n",
        "#     x=df_train.sample()\n",
        "    retval=[df_train.iloc[idx][\"Source\"],df_train.iloc[idx][\"Target\"]]\n",
        "    idx=(idx+1) % len(df_train)\n",
        "    return retval\n",
        "\n",
        "\n",
        "\n",
        "def trainIters(encoder, decoder, n_iters, print_every=1000, plot_every=100, learning_rate=0.01):\n",
        "    start = time.time()\n",
        "    plot_losses = []\n",
        "    print_loss_total = 0  # Reset every print_every\n",
        "    plot_loss_total = 0  # Reset every plot_every\n",
        "    plot_vlosses = []\n",
        "    plot_vloss_total = 0\n",
        "    min_vloss=np.inf\n",
        "    model_no = 1\n",
        "\n",
        "    encoder_optimizer = optim.SGD(encoder.parameters(), lr=learning_rate)\n",
        "    decoder_optimizer = optim.SGD(decoder.parameters(), lr=learning_rate)\n",
        "    \n",
        "#     training_pairs = getPair()\n",
        "    \n",
        "#     training_pairs = [tensorsFromPair(getPair())\n",
        "#                       for i in range(n_iters)]\n",
        "    criterion = nn.NLLLoss()\n",
        "\n",
        "    for iter in tqdm(range(1, n_iters + 1)):\n",
        "        training_pair = tensorsFromPair(getPair())\n",
        "        input_tensor = training_pair[0]\n",
        "        target_tensor = training_pair[1]\n",
        "\n",
        "        loss = train(input_tensor, target_tensor, encoder,\n",
        "                     decoder, encoder_optimizer, decoder_optimizer, criterion)\n",
        "        print_loss_total += loss\n",
        "        plot_loss_total += loss\n",
        "\n",
        "        if iter % print_every == 0:\n",
        "            print_loss_avg = print_loss_total / print_every\n",
        "            print_loss_total = 0\n",
        "            print('%s (%d %d%%) %.4f' % (timeSince(start, iter / n_iters),\n",
        "                                         iter, iter / n_iters * 100, print_loss_avg))\n",
        "            \n",
        "#             validate_iter(encoder, decoder)\n",
        "            tot_vloss=0\n",
        "            exact_acc=0\n",
        "            avg_acc=0\n",
        "            \n",
        "\n",
        "            \n",
        "            pred_tot = np.zeros(MAX_LENGTH) \n",
        "            \n",
        "            \n",
        "            for i in range(len(df_valid)):\n",
        "                dec_att, pred, vloss = validate(encoder, decoder,criterion,df_valid.iloc[i]['Source'], df_valid.iloc[i]['Target'], max_length=MAX_LENGTH)\n",
        "                \n",
        "#                 print(f'pred_tot: {pred_tot}')\n",
        "#                 print(f'pred: {pred}')\n",
        "                \n",
        "                pred_tot += pred\n",
        "                \n",
        "                tot_vloss += vloss\n",
        "                plot_vloss_total += loss\n",
        "                sum_pred = np.sum(pred)    #shoud be pred?\n",
        "                if sum_pred == MAX_LENGTH:\n",
        "                    exact_acc+=1\n",
        "                    \n",
        "                avg_acc += sum_pred/MAX_LENGTH     \n",
        "                    \n",
        "                \n",
        "                \n",
        "            print(f'Valid_Loss: {tot_vloss/len(df_valid)}, Pred per bit: {pred_tot/len(df_valid)}')\n",
        "            print(f'Exact Acc: {exact_acc/len(df_valid)}, Avg Acc: {avg_acc/len(df_valid)}')\n",
        "                \n",
        "            if min_vloss > tot_vloss:\n",
        "                torch.save(encoder.state_dict(), 'encoder'+ str(model_no)+'.pth')\n",
        "                torch.save(decoder.state_dict(), 'decoder'+ str(model_no)+'.pth')\n",
        "                model_no += 1\n",
        "                min_vloss = tot_vloss\n",
        "                print(\"Model \"+str(model_no)+\" Saved\")\n",
        "                \n",
        "\n",
        "        if iter % plot_every == 0:\n",
        "            plot_loss_avg = plot_loss_total / plot_every\n",
        "            plot_losses.append(plot_loss_avg)\n",
        "            plot_loss_total = 0\n",
        "            \n",
        "            plot_vloss_avg = plot_vloss_total / plot_every\n",
        "            plot_vlosses.append(plot_vloss_avg)\n",
        "            plot_vloss_total = 0\n",
        "            \n",
        "\n",
        "    showPlot(plot_losses)\n",
        "    showPlot(plot_vlosses)"
      ]
    },
    {
      "cell_type": "code",
      "execution_count": null,
      "id": "8f8089c5",
      "metadata": {
        "id": "8f8089c5"
      },
      "outputs": [],
      "source": [
        "def evaluateRandomly(encoder, decoder, n=10):\n",
        "    for i in range(n):\n",
        "        pair = random.choice(pairs)\n",
        "        print('>', pair[0])\n",
        "        print('=', pair[1])\n",
        "        output_words, attentions = evaluate(encoder, decoder, pair[0])\n",
        "        output_sentence = ' '.join(output_words)\n",
        "        print('<', output_sentence)\n",
        "        print('')"
      ]
    },
    {
      "cell_type": "code",
      "execution_count": null,
      "id": "5c036bf2",
      "metadata": {
        "id": "5c036bf2"
      },
      "outputs": [],
      "source": [
        "# plt.switch_backend('agg')\n",
        "import matplotlib.ticker as ticker\n",
        "import numpy as np\n",
        "\n",
        "\n",
        "def showPlot(points):\n",
        "    plt.figure()\n",
        "    fig, ax = plt.subplots()\n",
        "    # this locator puts ticks at regular intervals\n",
        "    loc = ticker.MultipleLocator(base=0.2)\n",
        "    ax.yaxis.set_major_locator(loc)\n",
        "    plt.plot(points)\n",
        "#     plt.plot(vpoints)"
      ]
    },
    {
      "cell_type": "code",
      "execution_count": null,
      "id": "d2cb323f",
      "metadata": {
        "scrolled": true,
        "colab": {
          "base_uri": "https://localhost:8080/"
        },
        "id": "d2cb323f",
        "outputId": "bc767108-99e8-4c41-c601-8751df8f556a"
      },
      "outputs": [
        {
          "output_type": "stream",
          "name": "stdout",
          "text": [
            "360000\n"
          ]
        },
        {
          "output_type": "stream",
          "name": "stderr",
          "text": [
            "  2%|▏         | 8997/360000 [03:07<2:05:47, 46.51it/s]"
          ]
        },
        {
          "output_type": "stream",
          "name": "stdout",
          "text": [
            "3m 7s (- 121m 43s) (9000 2%) 0.6235\n"
          ]
        },
        {
          "output_type": "stream",
          "name": "stderr",
          "text": [
            "  3%|▎         | 9005/360000 [03:43<162:56:49,  1.67s/it]"
          ]
        },
        {
          "output_type": "stream",
          "name": "stdout",
          "text": [
            "Valid_Loss: 4.081368923187256, Pred per bit: [0.98675 0.914   0.84525 0.80325 0.998   0.858   0.6375  0.99775 0.91125\n",
            " 0.8825  0.9945 ]\n",
            "Exact Acc: 0.51425, Avg Acc: 0.8935227272727363\n",
            "Model 2 Saved\n"
          ]
        },
        {
          "output_type": "stream",
          "name": "stderr",
          "text": [
            "  5%|▍         | 17994/360000 [06:46<2:02:36, 46.49it/s]"
          ]
        },
        {
          "output_type": "stream",
          "name": "stdout",
          "text": [
            "6m 47s (- 128m 55s) (18000 5%) 0.1981\n"
          ]
        },
        {
          "output_type": "stream",
          "name": "stderr",
          "text": [
            "  5%|▌         | 18005/360000 [07:23<140:07:00,  1.47s/it]"
          ]
        },
        {
          "output_type": "stream",
          "name": "stdout",
          "text": [
            "Valid_Loss: 2.6333227157592773, Pred per bit: [0.98975 0.96025 0.924   0.88    0.99625 0.939   0.73525 0.99625 0.94375\n",
            " 0.94825 0.9945 ]\n",
            "Exact Acc: 0.634, Avg Acc: 0.937022727272739\n",
            "Model 3 Saved\n"
          ]
        },
        {
          "output_type": "stream",
          "name": "stderr",
          "text": [
            "  7%|▋         | 26998/360000 [10:27<1:51:43, 49.67it/s]"
          ]
        },
        {
          "output_type": "stream",
          "name": "stdout",
          "text": [
            "10m 27s (- 128m 54s) (27000 7%) 0.1399\n"
          ]
        },
        {
          "output_type": "stream",
          "name": "stderr",
          "text": [
            "  8%|▊         | 27005/360000 [11:02<149:01:21,  1.61s/it]"
          ]
        },
        {
          "output_type": "stream",
          "name": "stdout",
          "text": [
            "Valid_Loss: 2.033823251724243, Pred per bit: [0.9865  0.962   0.956   0.9225  0.99875 0.964   0.7715  0.9985  0.9605\n",
            " 0.94325 0.998  ]\n",
            "Exact Acc: 0.687, Avg Acc: 0.951045454545467\n",
            "Model 4 Saved\n"
          ]
        },
        {
          "output_type": "stream",
          "name": "stderr",
          "text": [
            " 10%|▉         | 35999/360000 [14:06<1:51:18, 48.51it/s]"
          ]
        },
        {
          "output_type": "stream",
          "name": "stdout",
          "text": [
            "14m 6s (- 126m 56s) (36000 10%) 0.1232\n"
          ]
        },
        {
          "output_type": "stream",
          "name": "stderr",
          "text": [
            " 10%|█         | 36005/360000 [14:42<156:26:49,  1.74s/it]"
          ]
        },
        {
          "output_type": "stream",
          "name": "stdout",
          "text": [
            "Valid_Loss: 1.5788260698318481, Pred per bit: [0.991   0.956   0.97075 0.9365  0.99925 0.96725 0.82175 0.99875 0.9645\n",
            " 0.96825 0.998  ]\n",
            "Exact Acc: 0.74875, Avg Acc: 0.9610909090909187\n",
            "Model 5 Saved\n"
          ]
        },
        {
          "output_type": "stream",
          "name": "stderr",
          "text": [
            " 12%|█▏        | 44999/360000 [17:44<1:45:37, 49.70it/s]"
          ]
        },
        {
          "output_type": "stream",
          "name": "stdout",
          "text": [
            "17m 44s (- 124m 12s) (45000 12%) 0.0864\n"
          ]
        },
        {
          "output_type": "stream",
          "name": "stderr",
          "text": [
            " 13%|█▎        | 45005/360000 [18:20<144:15:34,  1.65s/it]"
          ]
        },
        {
          "output_type": "stream",
          "name": "stdout",
          "text": [
            "Valid_Loss: 1.2081525325775146, Pred per bit: [0.99075 0.96525 0.98    0.9535  1.      0.97175 0.89725 1.      0.97375\n",
            " 0.9625  1.     ]\n",
            "Exact Acc: 0.82, Avg Acc: 0.9722500000000077\n",
            "Model 6 Saved\n"
          ]
        },
        {
          "output_type": "stream",
          "name": "stderr",
          "text": [
            " 15%|█▍        | 53998/360000 [21:22<1:42:04, 49.96it/s]"
          ]
        },
        {
          "output_type": "stream",
          "name": "stdout",
          "text": [
            "21m 22s (- 121m 7s) (54000 15%) 0.1005\n"
          ]
        },
        {
          "output_type": "stream",
          "name": "stderr",
          "text": [
            " 15%|█▌        | 54005/360000 [21:58<135:25:55,  1.59s/it]"
          ]
        },
        {
          "output_type": "stream",
          "name": "stdout",
          "text": [
            "Valid_Loss: 1.1445848941802979, Pred per bit: [0.989   0.96275 0.97425 0.95925 0.9995  0.985   0.9165  0.99925 0.97275\n",
            " 0.9715  0.999  ]\n",
            "Exact Acc: 0.848, Avg Acc: 0.9753409090909158\n",
            "Model 7 Saved\n"
          ]
        },
        {
          "output_type": "stream",
          "name": "stderr",
          "text": [
            " 17%|█▋        | 62996/360000 [25:00<1:38:01, 50.50it/s]"
          ]
        },
        {
          "output_type": "stream",
          "name": "stdout",
          "text": [
            "25m 0s (- 117m 55s) (63000 17%) 0.0737\n"
          ]
        },
        {
          "output_type": "stream",
          "name": "stderr",
          "text": [
            " 18%|█▊        | 63005/360000 [25:37<121:11:50,  1.47s/it]"
          ]
        },
        {
          "output_type": "stream",
          "name": "stdout",
          "text": [
            "Valid_Loss: 1.008111834526062, Pred per bit: [0.98775 0.96575 0.98375 0.97    0.99975 0.98875 0.9505  0.99975 0.96775\n",
            " 0.9635  0.99975]\n",
            "Exact Acc: 0.88175, Avg Acc: 0.9797272727272772\n",
            "Model 8 Saved\n"
          ]
        },
        {
          "output_type": "stream",
          "name": "stderr",
          "text": [
            " 20%|█▉        | 71998/360000 [28:39<1:34:34, 50.75it/s]"
          ]
        },
        {
          "output_type": "stream",
          "name": "stdout",
          "text": [
            "28m 39s (- 114m 37s) (72000 20%) 0.0514\n"
          ]
        },
        {
          "output_type": "stream",
          "name": "stderr",
          "text": [
            " 20%|██        | 72005/360000 [29:14<123:29:52,  1.54s/it]"
          ]
        },
        {
          "output_type": "stream",
          "name": "stdout",
          "text": [
            "Valid_Loss: 0.6472977995872498, Pred per bit: [0.9915  0.96875 0.98925 0.97725 0.99975 0.9935  0.97075 0.99975 0.98\n",
            " 0.984   0.99975]\n",
            "Exact Acc: 0.9155, Avg Acc: 0.9867500000000033\n",
            "Model 9 Saved\n"
          ]
        },
        {
          "output_type": "stream",
          "name": "stderr",
          "text": [
            " 22%|██▏       | 80994/360000 [32:16<1:33:45, 49.60it/s]"
          ]
        },
        {
          "output_type": "stream",
          "name": "stdout",
          "text": [
            "32m 16s (- 111m 9s) (81000 22%) 0.0364\n"
          ]
        },
        {
          "output_type": "stream",
          "name": "stderr",
          "text": [
            " 23%|██▎       | 81006/360000 [32:51<100:40:29,  1.30s/it]"
          ]
        },
        {
          "output_type": "stream",
          "name": "stdout",
          "text": [
            "Valid_Loss: 0.5698298811912537, Pred per bit: [0.9885  0.97025 0.98825 0.9845  0.99975 0.99775 0.98425 0.99975 0.9805\n",
            " 0.98375 0.9995 ]\n",
            "Exact Acc: 0.92725, Avg Acc: 0.9887954545454575\n",
            "Model 10 Saved\n"
          ]
        },
        {
          "output_type": "stream",
          "name": "stderr",
          "text": [
            " 25%|██▍       | 89996/360000 [35:52<1:29:14, 50.42it/s]"
          ]
        },
        {
          "output_type": "stream",
          "name": "stdout",
          "text": [
            "35m 52s (- 107m 38s) (90000 25%) 0.0294\n"
          ]
        },
        {
          "output_type": "stream",
          "name": "stderr",
          "text": [
            " 25%|██▌       | 90005/360000 [36:28<106:27:10,  1.42s/it]"
          ]
        },
        {
          "output_type": "stream",
          "name": "stdout",
          "text": [
            "Valid_Loss: 0.40650781989097595, Pred per bit: [0.99425 0.968   0.99425 0.9885  1.      0.998   0.99375 1.      0.987\n",
            " 0.98925 1.     ]\n",
            "Exact Acc: 0.94575, Avg Acc: 0.9920909090909118\n",
            "Model 11 Saved\n"
          ]
        },
        {
          "output_type": "stream",
          "name": "stderr",
          "text": [
            " 27%|██▋       | 98997/360000 [39:29<1:25:31, 50.86it/s]"
          ]
        },
        {
          "output_type": "stream",
          "name": "stdout",
          "text": [
            "39m 29s (- 104m 6s) (99000 27%) 0.0279\n"
          ]
        },
        {
          "output_type": "stream",
          "name": "stderr",
          "text": [
            " 28%|██▊       | 99006/360000 [40:04<101:29:38,  1.40s/it]"
          ]
        },
        {
          "output_type": "stream",
          "name": "stdout",
          "text": [
            "Valid_Loss: 0.487383097410202, Pred per bit: [0.98625 0.9695  0.99175 0.98675 1.      0.996   0.98825 1.      0.9915\n",
            " 0.991   1.     ]\n",
            "Exact Acc: 0.939, Avg Acc: 0.9910000000000029\n"
          ]
        },
        {
          "output_type": "stream",
          "name": "stderr",
          "text": [
            " 30%|██▉       | 107999/360000 [43:07<1:24:22, 49.78it/s]"
          ]
        },
        {
          "output_type": "stream",
          "name": "stdout",
          "text": [
            "43m 7s (- 100m 36s) (108000 30%) 0.0264\n"
          ]
        },
        {
          "output_type": "stream",
          "name": "stderr",
          "text": [
            " 30%|███       | 108005/360000 [43:42<116:03:32,  1.66s/it]"
          ]
        },
        {
          "output_type": "stream",
          "name": "stdout",
          "text": [
            "Valid_Loss: 0.39895710349082947, Pred per bit: [0.99025 0.9705  0.994   0.9815  0.9995  0.9975  0.9895  0.9995  0.99325\n",
            " 0.99325 0.9995 ]\n",
            "Exact Acc: 0.94225, Avg Acc: 0.9916590909090931\n",
            "Model 12 Saved\n"
          ]
        },
        {
          "output_type": "stream",
          "name": "stderr",
          "text": [
            " 32%|███▏      | 116997/360000 [46:52<1:22:08, 49.31it/s]"
          ]
        },
        {
          "output_type": "stream",
          "name": "stdout",
          "text": [
            "46m 52s (- 97m 20s) (117000 32%) 0.1310\n"
          ]
        },
        {
          "output_type": "stream",
          "name": "stderr",
          "text": [
            " 33%|███▎      | 117005/360000 [47:29<113:03:04,  1.67s/it]"
          ]
        },
        {
          "output_type": "stream",
          "name": "stdout",
          "text": [
            "Valid_Loss: 2.962000608444214, Pred per bit: [0.9805  0.89175 0.8925  0.8685  0.9975  0.937   0.851   0.9965  0.9325\n",
            " 0.8965  0.994  ]\n",
            "Exact Acc: 0.5945, Avg Acc: 0.9307500000000135\n"
          ]
        },
        {
          "output_type": "stream",
          "name": "stderr",
          "text": [
            " 35%|███▍      | 125997/360000 [50:35<1:21:49, 47.66it/s]"
          ]
        },
        {
          "output_type": "stream",
          "name": "stdout",
          "text": [
            "50m 35s (- 93m 57s) (126000 35%) 0.1006\n"
          ]
        },
        {
          "output_type": "stream",
          "name": "stderr",
          "text": [
            " 35%|███▌      | 126005/360000 [51:11<106:35:38,  1.64s/it]"
          ]
        },
        {
          "output_type": "stream",
          "name": "stdout",
          "text": [
            "Valid_Loss: 0.9934296011924744, Pred per bit: [0.991   0.9685  0.9765  0.95925 0.999   0.98775 0.95775 0.999   0.97\n",
            " 0.96975 0.999  ]\n",
            "Exact Acc: 0.875, Avg Acc: 0.9797727272727323\n"
          ]
        },
        {
          "output_type": "stream",
          "name": "stderr",
          "text": [
            " 37%|███▋      | 134998/360000 [54:16<1:14:38, 50.24it/s]"
          ]
        },
        {
          "output_type": "stream",
          "name": "stdout",
          "text": [
            "54m 17s (- 90m 28s) (135000 37%) 0.0509\n"
          ]
        },
        {
          "output_type": "stream",
          "name": "stderr",
          "text": [
            " 38%|███▊      | 135005/360000 [54:52<97:26:04,  1.56s/it] "
          ]
        },
        {
          "output_type": "stream",
          "name": "stdout",
          "text": [
            "Valid_Loss: 0.6258083581924438, Pred per bit: [0.99325 0.96875 0.9775  0.9765  0.99975 0.996   0.99    0.99975 0.97275\n",
            " 0.98125 0.99975]\n",
            "Exact Acc: 0.9025, Avg Acc: 0.9868409090909145\n"
          ]
        },
        {
          "output_type": "stream",
          "name": "stderr",
          "text": [
            " 40%|███▉      | 143995/360000 [57:57<1:11:54, 50.06it/s]"
          ]
        },
        {
          "output_type": "stream",
          "name": "stdout",
          "text": [
            "57m 58s (- 86m 57s) (144000 40%) 0.0383\n"
          ]
        },
        {
          "output_type": "stream",
          "name": "stderr",
          "text": [
            " 40%|████      | 144005/360000 [58:33<85:31:19,  1.43s/it] "
          ]
        },
        {
          "output_type": "stream",
          "name": "stdout",
          "text": [
            "Valid_Loss: 0.5318061113357544, Pred per bit: [0.9875  0.9695  0.99175 0.98475 1.      0.9955  0.9945  1.      0.976\n",
            " 0.981   0.99975]\n",
            "Exact Acc: 0.93, Avg Acc: 0.9891136363636396\n"
          ]
        },
        {
          "output_type": "stream",
          "name": "stderr",
          "text": [
            " 42%|████▏     | 152995/360000 [1:01:37<1:09:47, 49.44it/s]"
          ]
        },
        {
          "output_type": "stream",
          "name": "stdout",
          "text": [
            "61m 37s (- 83m 22s) (153000 42%) 0.0311\n"
          ]
        },
        {
          "output_type": "stream",
          "name": "stderr",
          "text": [
            " 43%|████▎     | 153005/360000 [1:02:13<82:05:34,  1.43s/it] "
          ]
        },
        {
          "output_type": "stream",
          "name": "stdout",
          "text": [
            "Valid_Loss: 0.5157913565635681, Pred per bit: [0.99    0.9685  0.99125 0.98675 0.99975 0.99925 0.99475 0.99975 0.97825\n",
            " 0.9815  0.99975]\n",
            "Exact Acc: 0.9335, Avg Acc: 0.9899545454545488\n"
          ]
        },
        {
          "output_type": "stream",
          "name": "stderr",
          "text": [
            " 45%|████▍     | 161994/360000 [1:05:19<1:09:15, 47.65it/s]"
          ]
        },
        {
          "output_type": "stream",
          "name": "stdout",
          "text": [
            "65m 19s (- 79m 50s) (162000 45%) 0.0293\n"
          ]
        },
        {
          "output_type": "stream",
          "name": "stderr",
          "text": [
            " 45%|████▌     | 162005/360000 [1:05:55<79:46:21,  1.45s/it] "
          ]
        },
        {
          "output_type": "stream",
          "name": "stdout",
          "text": [
            "Valid_Loss: 0.44455039501190186, Pred per bit: [0.99125 0.96725 0.99225 0.98875 1.      0.9985  0.99275 1.      0.98075\n",
            " 0.985   1.     ]\n",
            "Exact Acc: 0.9355, Avg Acc: 0.9905909090909121\n"
          ]
        },
        {
          "output_type": "stream",
          "name": "stderr",
          "text": [
            " 47%|████▋     | 170999/360000 [1:09:00<1:07:00, 47.01it/s]"
          ]
        },
        {
          "output_type": "stream",
          "name": "stdout",
          "text": [
            "69m 0s (- 76m 16s) (171000 47%) 0.0411\n"
          ]
        },
        {
          "output_type": "stream",
          "name": "stderr",
          "text": [
            " 48%|████▊     | 171005/360000 [1:09:36<92:36:27,  1.76s/it] "
          ]
        },
        {
          "output_type": "stream",
          "name": "stdout",
          "text": [
            "Valid_Loss: 1.3090360164642334, Pred per bit: [0.991   0.9705  0.97    0.9745  0.999   0.99325 0.97475 0.999   0.96475\n",
            " 0.8635  0.998  ]\n",
            "Exact Acc: 0.8005, Avg Acc: 0.9725681818181916\n"
          ]
        },
        {
          "output_type": "stream",
          "name": "stderr",
          "text": [
            " 50%|████▉     | 179999/360000 [1:12:40<1:01:41, 48.63it/s]"
          ]
        },
        {
          "output_type": "stream",
          "name": "stdout",
          "text": [
            "72m 40s (- 72m 40s) (180000 50%) 0.0508\n"
          ]
        },
        {
          "output_type": "stream",
          "name": "stderr",
          "text": [
            " 50%|█████     | 180005/360000 [1:13:15<86:39:45,  1.73s/it] "
          ]
        },
        {
          "output_type": "stream",
          "name": "stdout",
          "text": [
            "Valid_Loss: 0.5042775869369507, Pred per bit: [0.994   0.972   0.9905  0.98425 0.999   0.9965  0.9915  0.99875 0.9835\n",
            " 0.987   0.9985 ]\n",
            "Exact Acc: 0.938, Avg Acc: 0.9905000000000028\n"
          ]
        },
        {
          "output_type": "stream",
          "name": "stderr",
          "text": [
            " 52%|█████▏    | 188994/360000 [1:16:16<55:38, 51.23it/s]"
          ]
        },
        {
          "output_type": "stream",
          "name": "stdout",
          "text": [
            "76m 16s (- 69m 1s) (189000 52%) 0.0273\n"
          ]
        },
        {
          "output_type": "stream",
          "name": "stderr",
          "text": [
            " 53%|█████▎    | 189006/360000 [1:16:51<59:11:17,  1.25s/it]"
          ]
        },
        {
          "output_type": "stream",
          "name": "stdout",
          "text": [
            "Valid_Loss: 0.4536558985710144, Pred per bit: [0.993   0.9705  0.994   0.989   0.99975 0.99625 0.9915  0.99975 0.98075\n",
            " 0.98575 0.99975]\n",
            "Exact Acc: 0.936, Avg Acc: 0.9909090909090943\n"
          ]
        },
        {
          "output_type": "stream",
          "name": "stderr",
          "text": [
            " 55%|█████▍    | 197999/360000 [1:19:51<53:55, 50.07it/s]"
          ]
        },
        {
          "output_type": "stream",
          "name": "stdout",
          "text": [
            "79m 51s (- 65m 20s) (198000 55%) 0.0208\n"
          ]
        },
        {
          "output_type": "stream",
          "name": "stderr",
          "text": [
            " 55%|█████▌    | 198005/360000 [1:20:26<72:07:45,  1.60s/it] "
          ]
        },
        {
          "output_type": "stream",
          "name": "stdout",
          "text": [
            "Valid_Loss: 0.2571902871131897, Pred per bit: [0.994   0.971   0.9935  0.99375 1.      0.99875 0.999   1.      0.99675\n",
            " 0.996   1.     ]\n",
            "Exact Acc: 0.95925, Avg Acc: 0.9947954545454566\n",
            "Model 13 Saved\n"
          ]
        },
        {
          "output_type": "stream",
          "name": "stderr",
          "text": [
            " 57%|█████▋    | 206997/360000 [1:23:25<51:49, 49.20it/s]"
          ]
        },
        {
          "output_type": "stream",
          "name": "stdout",
          "text": [
            "83m 25s (- 61m 39s) (207000 57%) 0.0233\n"
          ]
        },
        {
          "output_type": "stream",
          "name": "stderr",
          "text": [
            " 58%|█████▊    | 207005/360000 [1:24:00<64:15:34,  1.51s/it]"
          ]
        },
        {
          "output_type": "stream",
          "name": "stdout",
          "text": [
            "Valid_Loss: 0.2969394624233246, Pred per bit: [0.99125 0.97225 0.99525 0.994   1.      0.99975 0.99825 1.      0.9935\n",
            " 0.9915  1.     ]\n",
            "Exact Acc: 0.957, Avg Acc: 0.994159090909093\n"
          ]
        },
        {
          "output_type": "stream",
          "name": "stderr",
          "text": [
            " 60%|█████▉    | 215996/360000 [1:27:00<47:24, 50.63it/s]"
          ]
        },
        {
          "output_type": "stream",
          "name": "stdout",
          "text": [
            "87m 0s (- 58m 0s) (216000 60%) 0.0454\n"
          ]
        },
        {
          "output_type": "stream",
          "name": "stderr",
          "text": [
            " 60%|██████    | 216005/360000 [1:27:33<53:25:15,  1.34s/it]"
          ]
        },
        {
          "output_type": "stream",
          "name": "stdout",
          "text": [
            "Valid_Loss: 41.95838928222656, Pred per bit: [0.81675 0.122   0.12875 0.14175 0.06175 0.20125 0.1255  0.0935  0.14225\n",
            " 0.1045  0.002  ]\n",
            "Exact Acc: 0.0, Avg Acc: 0.17636363636363042\n"
          ]
        },
        {
          "output_type": "stream",
          "name": "stderr",
          "text": [
            " 62%|██████▏   | 224994/360000 [1:30:31<44:24, 50.67it/s]"
          ]
        },
        {
          "output_type": "stream",
          "name": "stdout",
          "text": [
            "90m 31s (- 54m 19s) (225000 62%) 1.2014\n"
          ]
        },
        {
          "output_type": "stream",
          "name": "stderr",
          "text": [
            " 63%|██████▎   | 225005/360000 [1:31:06<50:14:06,  1.34s/it]"
          ]
        },
        {
          "output_type": "stream",
          "name": "stdout",
          "text": [
            "Valid_Loss: 16.449495315551758, Pred per bit: [0.985   0.85825 0.3655  0.274   0.87625 0.7555  0.36675 0.8755  0.733\n",
            " 0.27675 0.87525]\n",
            "Exact Acc: 0.005, Avg Acc: 0.6583409090909061\n"
          ]
        },
        {
          "output_type": "stream",
          "name": "stderr",
          "text": [
            " 65%|██████▍   | 233999/360000 [1:34:06<41:34, 50.52it/s]"
          ]
        },
        {
          "output_type": "stream",
          "name": "stdout",
          "text": [
            "94m 6s (- 50m 40s) (234000 65%) 0.5684\n"
          ]
        },
        {
          "output_type": "stream",
          "name": "stderr",
          "text": [
            " 65%|██████▌   | 234005/360000 [1:34:42<56:17:10,  1.61s/it]"
          ]
        },
        {
          "output_type": "stream",
          "name": "stdout",
          "text": [
            "Valid_Loss: 5.566603660583496, Pred per bit: [0.983   0.9085  0.691   0.58625 0.998   0.88725 0.65425 0.99775 0.88125\n",
            " 0.62525 0.99775]\n",
            "Exact Acc: 0.18225, Avg Acc: 0.8372954545454689\n"
          ]
        },
        {
          "output_type": "stream",
          "name": "stderr",
          "text": [
            " 67%|██████▋   | 242999/360000 [1:37:41<38:39, 50.45it/s]"
          ]
        },
        {
          "output_type": "stream",
          "name": "stdout",
          "text": [
            "97m 41s (- 47m 2s) (243000 67%) 0.3517\n"
          ]
        },
        {
          "output_type": "stream",
          "name": "stderr",
          "text": [
            " 68%|██████▊   | 243005/360000 [1:38:16<52:01:48,  1.60s/it]"
          ]
        },
        {
          "output_type": "stream",
          "name": "stdout",
          "text": [
            "Valid_Loss: 4.136204719543457, Pred per bit: [0.981   0.91675 0.787   0.7065  0.996   0.92975 0.76225 0.99575 0.91175\n",
            " 0.791   0.99575]\n",
            "Exact Acc: 0.3505, Avg Acc: 0.8885000000000215\n"
          ]
        },
        {
          "output_type": "stream",
          "name": "stderr",
          "text": [
            " 70%|██████▉   | 251996/360000 [1:41:15<35:39, 50.48it/s]"
          ]
        },
        {
          "output_type": "stream",
          "name": "stdout",
          "text": [
            "101m 15s (- 43m 23s) (252000 70%) 0.2478\n"
          ]
        },
        {
          "output_type": "stream",
          "name": "stderr",
          "text": [
            " 70%|███████   | 252005/360000 [1:41:51<42:36:51,  1.42s/it]"
          ]
        },
        {
          "output_type": "stream",
          "name": "stdout",
          "text": [
            "Valid_Loss: 3.142787218093872, Pred per bit: [0.98275 0.9425  0.88775 0.83975 0.99425 0.9595  0.8635  0.99425 0.90775\n",
            " 0.855   0.99375]\n",
            "Exact Acc: 0.56975, Avg Acc: 0.9291590909091066\n"
          ]
        },
        {
          "output_type": "stream",
          "name": "stderr",
          "text": [
            " 72%|███████▏  | 260995/360000 [1:44:51<32:00, 51.56it/s]"
          ]
        },
        {
          "output_type": "stream",
          "name": "stdout",
          "text": [
            "104m 51s (- 39m 46s) (261000 72%) 0.1845\n"
          ]
        },
        {
          "output_type": "stream",
          "name": "stderr",
          "text": [
            " 73%|███████▎  | 261005/360000 [1:45:26<37:34:01,  1.37s/it]"
          ]
        },
        {
          "output_type": "stream",
          "name": "stdout",
          "text": [
            "Valid_Loss: 2.3774585723876953, Pred per bit: [0.989   0.9535  0.926   0.86225 0.9985  0.977   0.872   0.9985  0.906\n",
            " 0.85175 0.9985 ]\n",
            "Exact Acc: 0.57375, Avg Acc: 0.9393636363636554\n"
          ]
        },
        {
          "output_type": "stream",
          "name": "stderr",
          "text": [
            " 75%|███████▍  | 269996/360000 [1:48:26<30:18, 49.50it/s]"
          ]
        },
        {
          "output_type": "stream",
          "name": "stdout",
          "text": [
            "108m 26s (- 36m 8s) (270000 75%) 0.1444\n"
          ]
        },
        {
          "output_type": "stream",
          "name": "stderr",
          "text": [
            " 75%|███████▌  | 270005/360000 [1:49:01<37:26:42,  1.50s/it]"
          ]
        },
        {
          "output_type": "stream",
          "name": "stdout",
          "text": [
            "Valid_Loss: 2.985293388366699, Pred per bit: [0.98675 0.94825 0.916   0.87225 0.98975 0.95    0.9035  0.9895  0.93725\n",
            " 0.90625 0.98925]\n",
            "Exact Acc: 0.672, Avg Acc: 0.9444318181818311\n"
          ]
        },
        {
          "output_type": "stream",
          "name": "stderr",
          "text": [
            " 77%|███████▋  | 278997/360000 [1:52:03<26:46, 50.44it/s]"
          ]
        },
        {
          "output_type": "stream",
          "name": "stdout",
          "text": [
            "112m 3s (- 32m 31s) (279000 77%) 0.1273\n"
          ]
        },
        {
          "output_type": "stream",
          "name": "stderr",
          "text": [
            " 78%|███████▊  | 279005/360000 [1:52:38<33:13:42,  1.48s/it]"
          ]
        },
        {
          "output_type": "stream",
          "name": "stdout",
          "text": [
            "Valid_Loss: 1.7741495370864868, Pred per bit: [0.9895  0.95725 0.95625 0.93475 0.997   0.97925 0.937   0.99525 0.9535\n",
            " 0.94075 0.99525]\n",
            "Exact Acc: 0.78375, Avg Acc: 0.9668863636363738\n"
          ]
        },
        {
          "output_type": "stream",
          "name": "stderr",
          "text": [
            " 80%|███████▉  | 287994/360000 [1:55:38<24:44, 48.51it/s]"
          ]
        },
        {
          "output_type": "stream",
          "name": "stdout",
          "text": [
            "115m 39s (- 28m 54s) (288000 80%) 0.1065\n"
          ]
        },
        {
          "output_type": "stream",
          "name": "stderr",
          "text": [
            " 80%|████████  | 288005/360000 [1:56:14<28:04:12,  1.40s/it]"
          ]
        },
        {
          "output_type": "stream",
          "name": "stdout",
          "text": [
            "Valid_Loss: 1.247326374053955, Pred per bit: [0.99125 0.9635  0.96225 0.95275 0.99775 0.98275 0.96625 0.99775 0.978\n",
            " 0.9565  0.99775]\n",
            "Exact Acc: 0.844, Avg Acc: 0.9769545454545531\n"
          ]
        },
        {
          "output_type": "stream",
          "name": "stderr",
          "text": [
            " 82%|████████▏ | 296999/360000 [1:59:15<20:49, 50.40it/s]"
          ]
        },
        {
          "output_type": "stream",
          "name": "stdout",
          "text": [
            "119m 15s (- 25m 17s) (297000 82%) 0.0753\n"
          ]
        },
        {
          "output_type": "stream",
          "name": "stderr",
          "text": [
            " 83%|████████▎ | 297005/360000 [1:59:50<28:31:03,  1.63s/it]"
          ]
        },
        {
          "output_type": "stream",
          "name": "stdout",
          "text": [
            "Valid_Loss: 1.1708712577819824, Pred per bit: [0.992   0.964   0.97025 0.9665  0.9985  0.987   0.93075 0.99825 0.97475\n",
            " 0.961   0.99825]\n",
            "Exact Acc: 0.82775, Avg Acc: 0.9764772727272811\n"
          ]
        },
        {
          "output_type": "stream",
          "name": "stderr",
          "text": [
            " 84%|████████▍ | 302482/360000 [2:01:40<18:55, 50.65it/s]"
          ]
        }
      ],
      "source": [
        "hidden_size = 50\n",
        "epoch=10\n",
        "n_iters=epoch*len(df_train)\n",
        "print(n_iters)\n",
        "encoder1 = EncoderRNN(input_lang.n_words, hidden_size).to(device)\n",
        "attn_decoder1 = AttnDecoderRNN(hidden_size, output_lang.n_words, dropout_p=0.4).to(device)\n",
        "\n",
        "trainIters(encoder1, attn_decoder1, n_iters=n_iters, print_every=9000)"
      ]
    },
    {
      "cell_type": "code",
      "execution_count": null,
      "id": "9ef43932",
      "metadata": {
        "id": "9ef43932"
      },
      "outputs": [],
      "source": [
        "pip install faker"
      ]
    },
    {
      "cell_type": "code",
      "source": [
        "pip install babel"
      ],
      "metadata": {
        "id": "xuxP0Jk_WsdM"
      },
      "id": "xuxP0Jk_WsdM",
      "execution_count": null,
      "outputs": []
    },
    {
      "cell_type": "code",
      "execution_count": null,
      "id": "81583369",
      "metadata": {
        "id": "81583369"
      },
      "outputs": [],
      "source": [
        "from faker import Faker\n",
        "import random\n",
        "from babel.dates import format_date\n",
        "from tqdm import tqdm"
      ]
    },
    {
      "cell_type": "code",
      "execution_count": null,
      "id": "9739d62e",
      "metadata": {
        "id": "9739d62e"
      },
      "outputs": [],
      "source": [
        "fake = Faker()\n",
        "\n",
        "\n",
        "\n",
        "# We need to seed these guys. For some reason I always use 101\n",
        "Faker.seed(101)\n",
        "random.seed(101)\n",
        "\n",
        "\n",
        "\n",
        "FORMATS = ['short', # d/M/YY\n",
        "           'medium', # MMM d, YYY\n",
        "           'medium',\n",
        "           'medium',\n",
        "           'long', # MMMM dd, YYY\n",
        "           'long',\n",
        "           'long',\n",
        "           'long',\n",
        "           'long',\n",
        "           'full', # EEEE, MMM dd, YYY\n",
        "           'full',\n",
        "           'full',\n",
        "           'd MMM YYY',\n",
        "           'd MMMM YYY',\n",
        "           'd MMMM YYY',\n",
        "           'd MMMM YYY',\n",
        "           'd MMMM YYY',\n",
        "           'd MMMM YYY',\n",
        "           'dd/MM/YYY',\n",
        "           'EE d, MMM YYY',\n",
        "           'EEEE d, MMMM YYY']"
      ]
    },
    {
      "cell_type": "code",
      "source": [
        "for format in FORMATS:\n",
        "    print('%s => %s' %(format, format_date(fake.date_object(), format=format, locale='en')))"
      ],
      "metadata": {
        "id": "Cf_cAk-lGaiU"
      },
      "id": "Cf_cAk-lGaiU",
      "execution_count": null,
      "outputs": []
    },
    {
      "cell_type": "code",
      "source": [
        "def random_date():\n",
        "    dt = fake.date_object()\n",
        "\n",
        "\n",
        "\n",
        "    try:\n",
        "        date = format_date(dt, format=random.choice(FORMATS), locale='en')\n",
        "        human_readable = date.lower().replace(',', '')\n",
        "        machine_readable = dt.isoformat()\n",
        "\n",
        "\n",
        "\n",
        "    except AttributeError as e:\n",
        "        return None, None, None\n",
        "\n",
        "\n",
        "\n",
        "    return human_readable, machine_readable, dt\n",
        "\n",
        "\n",
        "\n",
        "\n",
        "def create_dataset(m):\n",
        "    human_vocab = set()\n",
        "    machine_vocab = set()\n",
        "    dataset = []\n",
        "    \n",
        "    for i in tqdm(range(m)):\n",
        "        h, m, _ = random_date()\n",
        "        if h is not None:\n",
        "            dataset.append((h, m))\n",
        "            human_vocab.update(tuple(h))\n",
        "            machine_vocab.update(tuple(m))\n",
        "    \n",
        "    # We also add two special chars, <unk> for unknown characters, and <pad> to add padding at the end\n",
        "    human = dict(zip(sorted(human_vocab) + ['<unk>', '<pad>'], list(range(len(human_vocab) + 2))))\n",
        "    inv_machine = dict(enumerate(sorted(machine_vocab)))\n",
        "    machine = {v: k for k, v in inv_machine.items()}\n",
        "\n",
        "    return dataset, human, machine, inv_machine"
      ],
      "metadata": {
        "id": "6siuNJwpGagR"
      },
      "id": "6siuNJwpGagR",
      "execution_count": null,
      "outputs": []
    },
    {
      "cell_type": "code",
      "source": [
        "m = 4000\n",
        "test_dataset, human_vocab, machine_vocab, inv_machine_vocab = create_dataset(m)\n",
        "print(test_dataset[:10])"
      ],
      "metadata": {
        "id": "Xlv0Yp_eGadh"
      },
      "id": "Xlv0Yp_eGadh",
      "execution_count": null,
      "outputs": []
    },
    {
      "cell_type": "code",
      "source": [
        "cols=['Source','Target']\n",
        "df_test=pd.read_csv('Assignment4aTestDataset.txt',names=cols, sep=', ',header=None)\n",
        "\n",
        "# df_test=pd.DataFrame(test_dataset,columns=[\"Source\",\"Target\"])\n",
        "print(df_test)"
      ],
      "metadata": {
        "id": "FegYHWKNGaZe"
      },
      "id": "FegYHWKNGaZe",
      "execution_count": null,
      "outputs": []
    },
    {
      "cell_type": "code",
      "source": [
        "def preproc(df):\n",
        "    days=['sunday ','monday ','tuesday ','wednesday ','thursday ','friday ','saturday ','sun ','mon ','tue ','wed ','thu ','fri ','sat ',\"'\"]\n",
        "    month={'january':'jan','february':'feb','march':'mar',\n",
        "       'april':'apr','june':'jun','july':'jul','august':'aug','september':'sept','sep':'sept','october':'oct','november':'nov',\n",
        "       'december':'dec'}\n",
        "\n",
        "\n",
        "\n",
        "    regx = r'({})'.format('|'.join(days))\n",
        "    df['Source'] = df['Source'].str.replace(regx, \"\").fillna(df['Source'])\n",
        "\n",
        "\n",
        "\n",
        "   # replace space with slash\n",
        "    space=[' ']\n",
        "    regx2 = r'({})'.format('|'.join(space))\n",
        "    df['Source'] = df['Source'].str.replace(regx2, \"/\").fillna(df['Source'])\n",
        "\n",
        "\n",
        "\n",
        "    d2 = {r'(\\b){}(\\b)'.format(k):r'\\1{}\\2'.format(v) for k,v in month.items()}\n",
        "    df['Source'] = df['Source'].replace(d2, regex=True)\n",
        "\n",
        "\n",
        "\n",
        "    pre=[\"'\"]\n",
        "    regx = r'({})'.format('|'.join(pre))\n",
        "    df['Target'] = df['Target'].str.replace(regx, \"\").fillna(df['Target'])\n",
        "    return df"
      ],
      "metadata": {
        "id": "JWD8TJIZGkIt"
      },
      "id": "JWD8TJIZGkIt",
      "execution_count": null,
      "outputs": []
    },
    {
      "cell_type": "code",
      "source": [
        "df_test=preproc(df_test)\n",
        "print(df_test)"
      ],
      "metadata": {
        "id": "nEN2pS6qGkEY"
      },
      "id": "nEN2pS6qGkEY",
      "execution_count": null,
      "outputs": []
    },
    {
      "cell_type": "code",
      "source": [],
      "metadata": {
        "id": "QG8wYfOCGaQY"
      },
      "id": "QG8wYfOCGaQY",
      "execution_count": null,
      "outputs": []
    },
    {
      "cell_type": "code",
      "execution_count": null,
      "id": "3a729f5f",
      "metadata": {
        "id": "3a729f5f"
      },
      "outputs": [],
      "source": [
        "\n",
        "def evaluate(encoder, decoder, sentence, max_length=MAX_LENGTH):\n",
        "    with torch.no_grad():\n",
        "        input_tensor = tensorFromSentence(input_lang, sentence,\"Source\")\n",
        "        input_length = input_tensor.size()[0]\n",
        "        encoder_hidden = encoder.initHidden()\n",
        "\n",
        "        encoder_outputs = torch.zeros(max_length, encoder.hidden_size, device=device)\n",
        "\n",
        "        for ei in range(input_length):\n",
        "            encoder_output, encoder_hidden = encoder(input_tensor[ei],\n",
        "                                                     encoder_hidden)\n",
        "            encoder_outputs[ei] += encoder_output[0, 0]\n",
        "\n",
        "        decoder_input = torch.tensor([[SOS_token]], device=device)  # SOS\n",
        "\n",
        "        decoder_hidden = encoder_hidden\n",
        "\n",
        "        decoded_words = []\n",
        "        decoder_attentions = torch.zeros(max_length, max_length)\n",
        "\n",
        "        for di in range(max_length):\n",
        "            decoder_output, decoder_hidden, decoder_attention = decoder(\n",
        "                decoder_input, decoder_hidden, encoder_outputs)\n",
        "            decoder_attentions[di] = decoder_attention.data\n",
        "            topv, topi = decoder_output.data.topk(1)\n",
        "            if topi.item() == EOS_token:\n",
        "                decoded_words.append('<EOS>')\n",
        "                break\n",
        "            else:\n",
        "                decoded_words.append(output_lang.index2word[topi.item()])\n",
        "\n",
        "            decoder_input = topi.squeeze().detach()\n",
        "\n",
        "        return decoded_words, decoder_attentions[:di + 1],input_tensor"
      ]
    },
    {
      "cell_type": "code",
      "execution_count": null,
      "id": "e5baead8",
      "metadata": {
        "id": "e5baead8"
      },
      "outputs": [],
      "source": [
        "def evaluateRandomly(encoder, decoder, n=10):\n",
        "    for i in range(n):\n",
        "        pair = random.choice(pairs)\n",
        "        print('>', pair[0])\n",
        "        print('=', pair[1])\n",
        "        output_words, attentions = evaluate(encoder, decoder, pair[0])\n",
        "        output_sentence = ' '.join(output_words)\n",
        "        print('<', output_sentence)\n",
        "        print('')"
      ]
    },
    {
      "cell_type": "code",
      "execution_count": null,
      "id": "51a7abd0",
      "metadata": {
        "id": "51a7abd0"
      },
      "outputs": [],
      "source": [
        "def showAttention(input_sentence, output_words, attentions,input_tensor):\n",
        "    # Set up figure with colorbar\n",
        "    fig = plt.figure()\n",
        "    ax = fig.add_subplot(111)\n",
        "    cax = ax.matshow(attentions.numpy(), cmap='bone')\n",
        "    fig.colorbar(cax)\n",
        "\n",
        "    # Set up axes\n",
        "\n",
        "    ax.set_yticklabels([''] + output_words)\n",
        "\n",
        "    # Show label at every tick\n",
        "    \n",
        "    ip=[]\n",
        "    for i in input_tensor.cpu().detach().numpy():\n",
        "        ip.append(input_lang.index2word[i[0]])\n",
        "    print(ip)\n",
        "    ax.set_xticklabels(['']+ip)\n",
        "    \n",
        "    \n",
        "    ax.xaxis.set_major_locator(ticker.MultipleLocator(1))\n",
        "    ax.yaxis.set_major_locator(ticker.MultipleLocator(1))\n",
        "\n",
        "    plt.show()\n",
        "\n",
        "\n",
        "def evaluateAndShowAttention(input_sentence):\n",
        "    output_words, attentions,input_tensor = evaluate(\n",
        "        encoder1, attn_decoder1, input_sentence)\n",
        "    print('input =', input_sentence)\n",
        "    print(torch.sum(attentions, axis=0))\n",
        "    print(torch.sum(attentions, axis=1))\n",
        "    print('attention shape =', attentions.shape)\n",
        "    print('output =', ' '.join(output_words))\n",
        "    plt.matshow(attentions)\n",
        "    showAttention(input_sentence, output_words, attentions,input_tensor)"
      ]
    },
    {
      "cell_type": "code",
      "source": [
        "hidden_size = 50\n",
        "encoder1 = EncoderRNN(input_lang.n_words, hidden_size).to(device)\n",
        "attn_decoder1 = AttnDecoderRNN(hidden_size, output_lang.n_words, dropout_p=0.4).to(device)\n",
        "\n",
        "PATHe='encoder6.pth'\n",
        "PATHd='decoder6.pth'\n",
        "encoder1.load_state_dict(torch.load(PATHe))\n",
        "attn_decoder1.load_state_dict(torch.load(PATHd))"
      ],
      "metadata": {
        "id": "TO44Ep-eGj-4"
      },
      "id": "TO44Ep-eGj-4",
      "execution_count": null,
      "outputs": []
    },
    {
      "cell_type": "code",
      "source": [
        "def test_df(df_valid,encoder, decoder, criterion=nn.NLLLoss(), max_length=MAX_LENGTH):\n",
        "    tot_vloss=0\n",
        "    exact_acc=0\n",
        "    avg_acc=0\n",
        "    pred_tot=np.zeros(MAX_LENGTH)\n",
        "\n",
        "\n",
        "\n",
        "    for i in range(len(df_valid)):\n",
        "        \n",
        "        dec_att,pred,vloss = validate(encoder, decoder,criterion,\n",
        "                                    df_valid.iloc[i]['Source'],\n",
        "                 df_valid.iloc[i]['Target'], max_length=MAX_LENGTH)\n",
        "\n",
        "        pred_tot+=pred\n",
        "\n",
        "        tot_vloss+=vloss\n",
        "        sum_pred=np.sum(pred)   \n",
        "        if sum_pred == MAX_LENGTH:\n",
        "            exact_acc+=1\n",
        "\n",
        "        avg_acc+=sum_pred/MAX_LENGTH\n",
        "    \n",
        "    return avg_acc,exact_acc,tot_vloss, pred_tot"
      ],
      "metadata": {
        "id": "kEKDDfIsZvVT"
      },
      "id": "kEKDDfIsZvVT",
      "execution_count": null,
      "outputs": []
    },
    {
      "cell_type": "code",
      "source": [
        "avg_acc,exact_acc,tot_vloss, pred_tot=test_df(df_test,encoder1, attn_decoder1)\n",
        "print(avg_acc/len(df_test))\n",
        "print(exact_acc/len(df_test))\n",
        "print(tot_vloss/len(df_test))\n",
        "print(pred_tot/len(df_test))"
      ],
      "metadata": {
        "id": "czBgVpCtZ-E5"
      },
      "id": "czBgVpCtZ-E5",
      "execution_count": null,
      "outputs": []
    },
    {
      "cell_type": "code",
      "source": [
        "avg_acc,exact_acc,tot_vloss, pred_tot=test_df(df_valid,encoder1, attn_decoder1)\n",
        "print(avg_acc/len(df_test))\n",
        "print(exact_acc/len(df_test))\n",
        "print(tot_vloss/len(df_test))\n",
        "print(pred_tot/len(df_test))"
      ],
      "metadata": {
        "id": "bsuvrOS80FTE"
      },
      "id": "bsuvrOS80FTE",
      "execution_count": null,
      "outputs": []
    },
    {
      "cell_type": "code",
      "source": [
        "hidden_size = 50\n",
        "encoder1 = EncoderRNN(input_lang.n_words, hidden_size).to(device)\n",
        "attn_decoder1 = AttnDecoderRNN(hidden_size, output_lang.n_words, dropout_p=0.4).to(device)\n",
        "\n",
        "PATHe='v2/encoder.pth'\n",
        "PATHd='v2/decoder.pth'\n",
        "encoder1.load_state_dict(torch.load(PATHe))\n",
        "attn_decoder1.load_state_dict(torch.load(PATHd))"
      ],
      "metadata": {
        "id": "Miq-Fh57zKel"
      },
      "id": "Miq-Fh57zKel",
      "execution_count": null,
      "outputs": []
    },
    {
      "cell_type": "code",
      "source": [
        "avg_acc,exact_acc,tot_vloss, pred_tot=test_df(df_test,encoder1, attn_decoder1)\n",
        "print(avg_acc/len(df_test))\n",
        "print(exact_acc/len(df_test))\n",
        "print(tot_vloss/len(df_test))\n",
        "print(pred_tot/len(df_test))"
      ],
      "metadata": {
        "id": "P5qbNW0yzbim"
      },
      "id": "P5qbNW0yzbim",
      "execution_count": null,
      "outputs": []
    },
    {
      "cell_type": "code",
      "execution_count": null,
      "id": "2a326c83",
      "metadata": {
        "id": "2a326c83"
      },
      "outputs": [],
      "source": [
        "evaluateAndShowAttention(df_valid.iloc[35][\"Source\"])"
      ]
    },
    {
      "cell_type": "code",
      "source": [
        "evaluateAndShowAttention(df_valid.iloc[45][\"Source\"])"
      ],
      "metadata": {
        "id": "4fnoOsZ5vUH-"
      },
      "id": "4fnoOsZ5vUH-",
      "execution_count": null,
      "outputs": []
    },
    {
      "cell_type": "code",
      "execution_count": null,
      "id": "41f52cfd",
      "metadata": {
        "colab": {
          "base_uri": "https://localhost:8080/",
          "height": 1000
        },
        "id": "41f52cfd",
        "outputId": "205bb2bb-282f-4226-cb03-b22d336b5590"
      },
      "outputs": [
        {
          "output_type": "stream",
          "name": "stdout",
          "text": [
            "input = 18/01/1976\n",
            "tensor([[2.7548e-10, 2.3940e-12, 7.8276e-10, 9.2149e-10, 4.7364e-10, 1.0000e+00,\n",
            "         5.8889e-11, 3.7651e-10, 1.5743e-11, 4.4716e-09, 3.3119e-09],\n",
            "        [2.5357e-07, 9.9871e-01, 1.9411e-11, 1.2896e-03, 1.2729e-07, 7.2233e-11,\n",
            "         3.7420e-11, 8.9900e-07, 1.0971e-07, 1.1530e-07, 2.9544e-07],\n",
            "        [2.1140e-08, 8.0995e-11, 2.3561e-09, 1.0141e-06, 6.4554e-08, 7.5287e-13,\n",
            "         6.4782e-11, 1.0000e+00, 5.6566e-07, 3.6009e-08, 3.0907e-08],\n",
            "        [3.9874e-10, 1.3046e-14, 1.2195e-13, 3.3434e-12, 7.2665e-11, 2.2710e-17,\n",
            "         5.3394e-13, 5.9919e-09, 1.0000e+00, 8.8257e-11, 6.7279e-11],\n",
            "        [8.0871e-06, 4.8388e-19, 9.1536e-06, 1.3937e-12, 2.1285e-10, 6.5907e-15,\n",
            "         6.8122e-16, 2.5691e-09, 9.9998e-01, 2.2775e-10, 1.5865e-10],\n",
            "        [9.9991e-01, 2.4861e-16, 1.4062e-07, 1.4091e-14, 8.9018e-11, 5.0514e-10,\n",
            "         1.9600e-19, 9.0231e-11, 9.2035e-05, 1.7031e-10, 8.7530e-11],\n",
            "        [9.9987e-01, 6.7502e-09, 6.7270e-10, 1.2959e-04, 3.7623e-08, 1.3972e-11,\n",
            "         4.0192e-13, 8.5515e-11, 1.7089e-09, 5.6673e-09, 9.2711e-09],\n",
            "        [1.8598e-07, 7.3731e-09, 9.9997e-01, 7.1276e-06, 1.9593e-06, 1.3976e-09,\n",
            "         1.4535e-05, 6.0434e-09, 7.9769e-06, 5.3538e-07, 6.5699e-07],\n",
            "        [2.0371e-09, 5.2780e-14, 3.3390e-08, 1.1849e-11, 1.5744e-10, 1.0000e+00,\n",
            "         6.9241e-13, 1.1852e-09, 2.2224e-12, 2.7340e-10, 4.8725e-10],\n",
            "        [9.0795e-06, 1.3947e-05, 8.0386e-10, 9.9997e-01, 4.7930e-07, 9.1608e-07,\n",
            "         1.7875e-07, 2.8841e-10, 6.2101e-09, 1.6056e-07, 3.5529e-07],\n",
            "        [2.0215e-09, 9.2521e-07, 6.4559e-01, 3.4286e-01, 7.7330e-05, 1.1331e-02,\n",
            "         1.6230e-06, 4.8463e-05, 1.2258e-06, 3.3653e-05, 5.5467e-05]])\n",
            "tensor([1.9998e+00, 9.9872e-01, 1.6456e+00, 1.3443e+00, 7.9999e-05, 2.0113e+00,\n",
            "        1.6337e-05, 1.0000e+00, 2.0001e+00, 3.4512e-05, 5.6819e-05])\n",
            "tensor([1.0000, 1.0000, 1.0000, 1.0000, 1.0000, 1.0000, 1.0000, 1.0000, 1.0000,\n",
            "        1.0000, 1.0000])\n",
            "attention shape = torch.Size([11, 11])\n",
            "output = 1 9 7 7 - 0 1 - 1 8 <EOS>\n",
            "['1', '8', '/', '0', '1', '/', '1', '9', '7', '6', 'EOS']\n"
          ]
        },
        {
          "output_type": "display_data",
          "data": {
            "text/plain": [
              "<Figure size 432x288 with 2 Axes>"
            ],
            "image/png": "[encoded data removed]"
          },
          "metadata": {
            "needs_background": "light"
          }
        },
        {
          "output_type": "stream",
          "name": "stdout",
          "text": [
            "\n",
            "input = apr/18/2000\n",
            "tensor([[3.3387e-15, 3.3234e-17, 1.3285e-14, 1.1648e-15, 7.4561e-14, 1.0000e+00,\n",
            "         2.9655e-14, 3.2981e-11, 1.0247e-15, 3.3193e-13, 2.5406e-13],\n",
            "        [1.1883e-07, 9.9527e-01, 1.9224e-09, 4.7144e-03, 1.1758e-06, 8.4821e-08,\n",
            "         1.7610e-08, 8.0187e-06, 1.9571e-07, 1.9532e-06, 3.1276e-06],\n",
            "        [1.8495e-04, 8.4596e-08, 3.0823e-08, 5.3785e-06, 1.8239e-05, 3.2012e-07,\n",
            "         1.2176e-07, 9.9933e-01, 4.2326e-04, 1.7932e-05, 2.1775e-05],\n",
            "        [1.3632e-06, 2.8999e-17, 7.9550e-11, 1.6327e-11, 1.5452e-08, 6.2369e-09,\n",
            "         1.0396e-10, 1.3856e-05, 9.9998e-01, 8.8508e-09, 6.9337e-09],\n",
            "        [1.0182e-02, 4.2497e-17, 2.4051e-06, 5.1545e-13, 1.1520e-08, 1.9236e-09,\n",
            "         1.0251e-12, 7.4663e-08, 9.8982e-01, 1.1020e-08, 6.7631e-09],\n",
            "        [1.0000e+00, 3.6960e-19, 4.4342e-09, 1.2704e-17, 4.9160e-12, 3.4127e-08,\n",
            "         1.8179e-19, 4.7894e-12, 1.2557e-09, 3.2085e-12, 2.7091e-12],\n",
            "        [9.9999e-01, 9.1191e-11, 4.2036e-09, 1.0970e-05, 4.3571e-08, 1.2622e-10,\n",
            "         3.1003e-13, 4.8346e-10, 2.9407e-08, 1.0010e-08, 1.3079e-08],\n",
            "        [3.9864e-11, 8.7561e-08, 9.9999e-01, 8.3166e-06, 3.4949e-08, 3.7622e-10,\n",
            "         1.0880e-08, 3.3998e-11, 5.9074e-09, 2.1284e-08, 1.7092e-08],\n",
            "        [1.7543e-09, 3.5927e-12, 6.8731e-08, 7.2621e-09, 1.5287e-09, 1.0000e+00,\n",
            "         3.1047e-14, 2.7291e-07, 9.6173e-12, 1.4193e-09, 3.3245e-09],\n",
            "        [3.5519e-07, 7.3062e-06, 3.4960e-11, 9.9999e-01, 1.2228e-07, 2.6816e-08,\n",
            "         8.8870e-08, 1.0281e-09, 5.7994e-10, 3.2398e-08, 5.7835e-08],\n",
            "        [1.1103e-09, 8.9814e-02, 1.3353e-01, 7.7459e-01, 9.1402e-05, 1.7457e-04,\n",
            "         2.1456e-08, 1.6496e-03, 2.3962e-07, 5.9679e-05, 9.0764e-05]])\n",
            "tensor([2.0104e+00, 1.0851e+00, 1.1335e+00, 1.7793e+00, 1.1105e-04, 2.0002e+00,\n",
            "        2.6069e-07, 1.0010e+00, 1.9902e+00, 7.9649e-05, 1.1577e-04])\n",
            "tensor([1.0000, 1.0000, 1.0000, 1.0000, 1.0000, 1.0000, 1.0000, 1.0000, 1.0000,\n",
            "        1.0000, 1.0000])\n",
            "attention shape = torch.Size([11, 11])\n",
            "output = 2 0 0 0 - 0 4 - 1 8 <EOS>\n",
            "['apr', '/', '1', '8', '/', '2', '0', '0', '0', 'EOS']\n"
          ]
        },
        {
          "output_type": "display_data",
          "data": {
            "text/plain": [
              "<Figure size 432x288 with 2 Axes>"
            ],
            "image/png": "[encoded data removed]"
          },
          "metadata": {
            "needs_background": "light"
          }
        },
        {
          "output_type": "stream",
          "name": "stdout",
          "text": [
            "\n",
            "input = 23/may/2022\n",
            "tensor([[2.4441e-14, 6.5565e-11, 5.6378e-13, 4.8770e-09, 2.8318e-11, 1.0000e+00,\n",
            "         6.9792e-14, 7.8638e-10, 2.1973e-12, 1.9686e-10, 1.8380e-10],\n",
            "        [5.0484e-10, 9.9924e-01, 1.5938e-13, 7.6235e-04, 1.9490e-08, 8.6983e-09,\n",
            "         8.3578e-10, 2.8234e-07, 1.4123e-09, 3.9838e-08, 6.3431e-08],\n",
            "        [2.7980e-08, 5.3718e-07, 8.2012e-12, 1.5259e-05, 7.9910e-07, 1.0276e-08,\n",
            "         2.9252e-08, 9.9998e-01, 1.9303e-07, 5.9782e-07, 7.7555e-07],\n",
            "        [2.3010e-11, 2.9052e-18, 1.5288e-16, 1.6772e-12, 3.0079e-12, 1.7900e-17,\n",
            "         7.9962e-11, 8.8490e-11, 1.0000e+00, 3.2612e-12, 2.8978e-12],\n",
            "        [5.4915e-06, 3.0689e-14, 5.9226e-09, 1.1663e-11, 1.4231e-10, 1.9660e-16,\n",
            "         4.1325e-12, 1.7302e-12, 9.9999e-01, 2.8626e-10, 1.1787e-10],\n",
            "        [9.9999e-01, 2.1969e-14, 1.2023e-08, 1.4089e-13, 3.1767e-10, 1.8685e-08,\n",
            "         1.2951e-16, 5.0787e-11, 7.2834e-06, 6.5398e-10, 3.3666e-10],\n",
            "        [9.9999e-01, 6.6270e-09, 1.5373e-10, 8.4399e-06, 2.9981e-08, 2.5049e-10,\n",
            "         3.3302e-12, 2.6852e-11, 2.9992e-09, 6.9644e-09, 7.9090e-09],\n",
            "        [4.5391e-08, 5.3516e-10, 1.0000e+00, 2.9272e-07, 3.1446e-07, 2.9212e-07,\n",
            "         8.9270e-09, 4.7672e-08, 7.5049e-09, 1.9696e-07, 1.8828e-07],\n",
            "        [2.4830e-08, 2.4787e-12, 1.2207e-06, 1.1354e-07, 2.6737e-09, 1.0000e+00,\n",
            "         2.5239e-15, 5.5030e-08, 2.0455e-10, 4.5249e-09, 5.8770e-09],\n",
            "        [2.0759e-08, 2.1775e-09, 1.6517e-09, 1.0000e+00, 6.0225e-08, 7.4468e-08,\n",
            "         4.9674e-08, 7.0926e-10, 2.9758e-09, 3.3137e-08, 5.0263e-08],\n",
            "        [5.4405e-12, 4.6465e-10, 2.7589e-01, 7.2411e-01, 4.0502e-07, 1.6442e-08,\n",
            "         3.0976e-07, 1.2031e-08, 1.2443e-08, 1.0855e-07, 2.4569e-07]])\n",
            "tensor([2.0000e+00, 9.9924e-01, 1.2759e+00, 1.7249e+00, 1.6314e-06, 2.0000e+00,\n",
            "        3.9853e-07, 9.9998e-01, 2.0000e+00, 9.8894e-07, 1.3376e-06])\n",
            "tensor([1.0000, 1.0000, 1.0000, 1.0000, 1.0000, 1.0000, 1.0000, 1.0000, 1.0000,\n",
            "        1.0000, 1.0000])\n",
            "attention shape = torch.Size([11, 11])\n",
            "output = 2 0 2 2 - 0 5 - 2 3 <EOS>\n",
            "['2', '3', '/', 'may', '/', '2', '0', '2', '2', 'EOS']\n"
          ]
        },
        {
          "output_type": "display_data",
          "data": {
            "text/plain": [
              "<Figure size 432x288 with 2 Axes>"
            ],
            "image/png": "[encoded data removed]"
          },
          "metadata": {
            "needs_background": "light"
          }
        },
        {
          "output_type": "stream",
          "name": "stdout",
          "text": [
            "\n",
            "input = jul/26/2006\n",
            "tensor([[2.2163e-15, 4.5876e-21, 1.2727e-16, 4.6061e-16, 2.0976e-15, 1.0000e+00,\n",
            "         7.1803e-18, 2.8769e-13, 1.0334e-16, 1.5364e-14, 1.8379e-14],\n",
            "        [3.0658e-08, 9.8634e-01, 4.2135e-10, 1.3501e-02, 1.9490e-06, 8.5011e-08,\n",
            "         8.6932e-08, 1.4801e-04, 4.8947e-07, 3.8366e-06, 6.0482e-06],\n",
            "        [3.5500e-05, 9.6576e-09, 4.2737e-10, 9.6245e-07, 3.5665e-06, 3.5483e-08,\n",
            "         3.1390e-08, 9.9974e-01, 2.1131e-04, 3.9282e-06, 4.3517e-06],\n",
            "        [1.9388e-06, 1.1312e-17, 9.6361e-12, 6.7804e-12, 7.7366e-09, 3.1333e-09,\n",
            "         9.7799e-11, 1.1401e-05, 9.9999e-01, 4.9042e-09, 4.0571e-09],\n",
            "        [2.2866e-06, 1.8308e-19, 2.6871e-07, 3.6939e-13, 7.4399e-11, 3.7546e-14,\n",
            "         1.7190e-15, 1.3270e-06, 1.0000e+00, 2.0890e-10, 1.6368e-10],\n",
            "        [1.0000e+00, 9.7418e-21, 6.2187e-09, 1.5283e-15, 3.1923e-12, 2.0694e-09,\n",
            "         1.3791e-19, 2.9938e-11, 2.7297e-09, 3.4348e-12, 2.2744e-12],\n",
            "        [9.9999e-01, 3.3549e-11, 1.1373e-09, 7.1594e-06, 1.3845e-08, 1.4106e-10,\n",
            "         1.0312e-13, 3.9016e-11, 3.6843e-09, 3.3042e-09, 3.1454e-09],\n",
            "        [8.0102e-06, 6.6372e-13, 9.9999e-01, 2.7161e-06, 9.8433e-07, 6.7172e-08,\n",
            "         2.6259e-07, 3.4600e-08, 1.0382e-06, 4.0233e-07, 2.5633e-07],\n",
            "        [4.8078e-11, 8.2775e-11, 7.8530e-09, 6.3169e-08, 5.7910e-10, 1.0000e+00,\n",
            "         1.4619e-15, 1.1385e-07, 9.7130e-13, 8.2571e-10, 1.5739e-09],\n",
            "        [4.2879e-11, 4.6203e-07, 6.7870e-12, 1.0000e+00, 3.8400e-09, 4.1026e-09,\n",
            "         7.7085e-09, 2.9544e-12, 3.8648e-12, 1.3888e-09, 2.7090e-09],\n",
            "        [1.3559e-09, 4.6727e-06, 6.0801e-02, 8.9732e-01, 2.0053e-04, 2.9768e-02,\n",
            "         1.4677e-03, 9.9415e-03, 2.5333e-05, 2.3951e-04, 2.3500e-04]])\n",
            "tensor([2.0000e+00, 9.8634e-01, 1.0608e+00, 1.9108e+00, 2.0706e-04, 2.0298e+00,\n",
            "        1.4681e-03, 1.0098e+00, 2.0002e+00, 2.4769e-04, 2.4566e-04])\n",
            "tensor([1.0000, 1.0000, 1.0000, 1.0000, 1.0000, 1.0000, 1.0000, 1.0000, 1.0000,\n",
            "        1.0000, 1.0000])\n",
            "attention shape = torch.Size([11, 11])\n",
            "output = 2 0 0 6 - 0 7 - 2 6 <EOS>\n",
            "['jul', '/', '2', '6', '/', '2', '0', '0', '6', 'EOS']\n"
          ]
        },
        {
          "output_type": "display_data",
          "data": {
            "text/plain": [
              "<Figure size 432x288 with 2 Axes>"
            ],
            "image/png": "[encoded data removed]"
          },
          "metadata": {
            "needs_background": "light"
          }
        },
        {
          "output_type": "stream",
          "name": "stdout",
          "text": [
            "\n",
            "input = 10/dec/1994\n",
            "tensor([[1.4102e-13, 1.3284e-16, 3.0896e-15, 1.7882e-14, 5.9035e-12, 1.0000e+00,\n",
            "         9.2262e-10, 5.2632e-11, 1.4477e-11, 1.0450e-11, 1.6080e-11],\n",
            "        [6.5306e-07, 9.9948e-01, 9.6908e-11, 5.1294e-04, 2.4961e-07, 2.2925e-10,\n",
            "         8.5550e-11, 1.1950e-06, 6.9554e-07, 3.2185e-07, 5.8291e-07],\n",
            "        [1.2153e-09, 2.3280e-13, 1.1914e-07, 1.2282e-07, 1.2393e-07, 3.2928e-11,\n",
            "         1.4572e-07, 9.9996e-01, 4.0666e-05, 1.5920e-07, 7.7154e-08],\n",
            "        [1.2095e-06, 8.7780e-15, 1.7303e-11, 4.2481e-12, 7.4733e-10, 1.2698e-15,\n",
            "         9.9103e-15, 3.8115e-07, 1.0000e+00, 4.7082e-10, 4.3804e-10],\n",
            "        [9.4794e-06, 3.5524e-17, 3.8653e-05, 3.7379e-14, 6.9738e-11, 3.8624e-17,\n",
            "         2.2127e-17, 1.3153e-09, 9.9995e-01, 7.5823e-11, 6.0292e-11],\n",
            "        [1.0000e+00, 2.0575e-17, 6.4956e-09, 8.0107e-17, 5.0066e-12, 2.0816e-10,\n",
            "         5.2397e-20, 1.1350e-12, 5.9900e-09, 3.7419e-12, 2.8067e-12],\n",
            "        [9.9998e-01, 8.1304e-09, 1.6949e-10, 1.7548e-05, 1.1606e-08, 1.9084e-14,\n",
            "         3.6673e-12, 3.3708e-12, 1.4469e-09, 1.5537e-09, 1.9729e-09],\n",
            "        [2.2740e-07, 9.4591e-13, 9.9980e-01, 1.8962e-06, 3.9416e-06, 6.2811e-11,\n",
            "         1.7129e-04, 9.9740e-06, 1.5050e-05, 6.8718e-07, 8.6793e-07],\n",
            "        [1.8755e-07, 2.8229e-14, 1.5753e-04, 9.3558e-09, 6.7764e-08, 9.9984e-01,\n",
            "         1.4722e-09, 1.9821e-06, 8.3584e-08, 7.7050e-08, 1.4744e-07],\n",
            "        [3.6521e-08, 2.6170e-06, 1.8055e-10, 1.0000e+00, 1.7661e-08, 2.3926e-09,\n",
            "         2.8924e-09, 6.0705e-13, 4.4434e-12, 2.7004e-09, 6.5336e-09],\n",
            "        [5.5299e-08, 1.0197e-07, 9.2773e-01, 4.8071e-02, 2.9959e-04, 2.3531e-02,\n",
            "         8.1850e-05, 2.7501e-05, 3.1821e-05, 9.1867e-05, 1.3956e-04]])\n",
            "tensor([2.0000e+00, 9.9949e-01, 1.9277e+00, 1.0486e+00, 3.0400e-04, 2.0234e+00,\n",
            "        2.5329e-04, 1.0000e+00, 2.0000e+00, 9.3117e-05, 1.4125e-04])\n",
            "tensor([1.0000, 1.0000, 1.0000, 1.0000, 1.0000, 1.0000, 1.0000, 1.0000, 1.0000,\n",
            "        1.0000, 1.0000])\n",
            "attention shape = torch.Size([11, 11])\n",
            "output = 1 9 9 4 - 1 2 - 1 0 <EOS>\n",
            "['1', '0', '/', 'dec', '/', '1', '9', '9', '4', 'EOS']\n"
          ]
        },
        {
          "output_type": "display_data",
          "data": {
            "text/plain": [
              "<Figure size 432x288 with 2 Axes>"
            ],
            "image/png": "[encoded data removed]"
          },
          "metadata": {
            "needs_background": "light"
          }
        },
        {
          "output_type": "stream",
          "name": "stdout",
          "text": [
            "\n",
            "input = jan/15/1983\n",
            "tensor([[2.2774e-13, 1.6038e-13, 1.7733e-15, 7.9131e-12, 6.7232e-12, 1.0000e+00,\n",
            "         1.7990e-11, 5.5479e-12, 2.4333e-13, 2.2300e-11, 5.3238e-11],\n",
            "        [6.6699e-08, 9.9990e-01, 1.0130e-12, 9.7240e-05, 2.9606e-08, 1.6504e-09,\n",
            "         1.1105e-12, 1.7528e-07, 7.2677e-09, 2.4527e-08, 4.3112e-08],\n",
            "        [1.0381e-09, 8.2283e-14, 1.6163e-09, 8.2066e-09, 2.9896e-08, 3.0810e-10,\n",
            "         4.8599e-09, 1.0000e+00, 2.9712e-06, 3.0254e-08, 2.8042e-08],\n",
            "        [1.9634e-08, 1.3384e-13, 9.0383e-13, 3.9493e-13, 1.2031e-09, 7.9322e-14,\n",
            "         3.8605e-09, 4.4318e-08, 1.0000e+00, 9.7050e-10, 1.1382e-09],\n",
            "        [4.7063e-04, 2.4484e-11, 2.8444e-06, 1.5005e-08, 6.1404e-08, 3.1250e-16,\n",
            "         2.8994e-11, 1.3672e-10, 9.9953e-01, 1.6910e-08, 1.4903e-08],\n",
            "        [1.0000e+00, 5.6111e-18, 1.5412e-09, 2.8172e-17, 2.2505e-12, 9.0354e-10,\n",
            "         8.2920e-19, 3.1380e-13, 4.1163e-09, 2.4765e-12, 2.5823e-12],\n",
            "        [9.9999e-01, 5.9203e-11, 7.1772e-10, 1.2869e-05, 1.4460e-08, 2.7520e-10,\n",
            "         1.1842e-13, 3.8832e-11, 4.3234e-09, 3.7689e-09, 5.0673e-09],\n",
            "        [2.8283e-07, 3.5428e-07, 9.9996e-01, 3.2829e-05, 7.0373e-07, 5.3753e-09,\n",
            "         1.8141e-08, 6.3650e-09, 1.0138e-07, 2.8158e-07, 5.9841e-07],\n",
            "        [3.5780e-09, 3.0889e-11, 3.8466e-07, 2.9002e-08, 2.1229e-09, 1.0000e+00,\n",
            "         6.1868e-12, 8.1308e-08, 1.6311e-13, 1.8030e-09, 3.0367e-09],\n",
            "        [5.4897e-09, 9.2380e-06, 1.4130e-11, 9.9999e-01, 2.8697e-08, 2.9885e-08,\n",
            "         2.7510e-08, 4.1355e-11, 7.9784e-12, 6.2455e-09, 1.2757e-08],\n",
            "        [3.6278e-11, 4.7686e-02, 4.8259e-01, 4.6969e-01, 4.9613e-06, 7.9942e-06,\n",
            "         1.1370e-10, 6.1125e-08, 1.6879e-08, 3.5106e-06, 8.4681e-06]])\n",
            "tensor([2.0005e+00, 1.0476e+00, 1.4826e+00, 1.4698e+00, 5.8325e-06, 2.0000e+00,\n",
            "        5.4539e-08, 1.0000e+00, 1.9995e+00, 3.8767e-06, 9.1746e-06])\n",
            "tensor([1.0000, 1.0000, 1.0000, 1.0000, 1.0000, 1.0000, 1.0000, 1.0000, 1.0000,\n",
            "        1.0000, 1.0000])\n",
            "attention shape = torch.Size([11, 11])\n",
            "output = 1 9 8 3 - 0 1 - 1 5 <EOS>\n",
            "['jan', '/', '1', '5', '/', '1', '9', '8', '3', 'EOS']\n"
          ]
        },
        {
          "output_type": "display_data",
          "data": {
            "text/plain": [
              "<Figure size 432x288 with 2 Axes>"
            ],
            "image/png": "[encoded data removed]"
          },
          "metadata": {
            "needs_background": "light"
          }
        },
        {
          "output_type": "stream",
          "name": "stdout",
          "text": [
            "\n",
            "input = 5/feb/2002\n",
            "tensor([[1.4711e-13, 2.0148e-13, 4.7232e-13, 2.0598e-10, 6.6538e-12, 1.0000e+00,\n",
            "         2.0130e-16, 8.9594e-09, 4.6933e-13, 5.1239e-11, 6.5728e-11],\n",
            "        [2.0049e-09, 9.9196e-01, 2.0779e-11, 8.0272e-03, 2.7206e-07, 3.5332e-09,\n",
            "         1.5649e-08, 1.2275e-05, 3.9276e-08, 3.4061e-07, 5.6680e-07],\n",
            "        [4.3583e-06, 8.5233e-10, 4.0170e-10, 1.8479e-07, 8.3774e-07, 3.7803e-09,\n",
            "         8.3670e-09, 9.9990e-01, 9.7640e-05, 9.1751e-07, 9.0238e-07],\n",
            "        [2.0799e-06, 2.0542e-13, 5.9482e-10, 7.2839e-11, 4.0133e-08, 1.4740e-09,\n",
            "         1.3791e-11, 5.4717e-05, 9.9994e-01, 3.4133e-08, 3.3252e-08],\n",
            "        [7.9000e-06, 2.0561e-14, 2.6226e-08, 5.7748e-11, 9.4780e-10, 8.6620e-15,\n",
            "         4.9176e-15, 2.7009e-10, 9.9999e-01, 6.2703e-10, 5.3793e-10],\n",
            "        [1.0000e+00, 3.7541e-16, 1.1059e-09, 1.0826e-15, 1.0068e-11, 1.3382e-10,\n",
            "         2.0881e-19, 1.3934e-11, 4.8188e-08, 1.4062e-11, 9.0895e-12],\n",
            "        [9.9999e-01, 5.7814e-10, 5.0302e-10, 7.8026e-06, 1.4644e-08, 1.4386e-11,\n",
            "         9.5583e-13, 2.6281e-11, 1.1826e-09, 4.2182e-09, 3.4576e-09],\n",
            "        [4.5050e-09, 6.3205e-10, 9.9999e-01, 1.0270e-05, 3.6360e-07, 7.1784e-09,\n",
            "         1.5699e-07, 4.6995e-08, 4.0912e-08, 1.4997e-07, 2.1203e-07],\n",
            "        [3.2876e-08, 3.0352e-10, 4.7565e-07, 9.8900e-08, 9.5514e-09, 1.0000e+00,\n",
            "         2.8787e-15, 1.3736e-06, 3.5182e-10, 1.4822e-08, 2.1265e-08],\n",
            "        [3.8890e-05, 3.2654e-08, 7.5770e-08, 9.9979e-01, 1.0926e-06, 1.6725e-04,\n",
            "         1.2601e-11, 1.6301e-08, 1.8643e-07, 5.6651e-07, 9.8820e-07],\n",
            "        [5.3547e-12, 5.1539e-03, 9.7409e-01, 2.0497e-02, 3.1672e-06, 2.4205e-04,\n",
            "         7.6578e-12, 2.5632e-06, 6.6607e-07, 4.1780e-06, 9.8875e-06]])\n",
            "tensor([2.0000e+00, 9.9711e-01, 1.9741e+00, 1.0283e+00, 5.7984e-06, 2.0004e+00,\n",
            "        1.8104e-07, 9.9997e-01, 2.0000e+00, 6.2065e-06, 1.2615e-05])\n",
            "tensor([1.0000, 1.0000, 1.0000, 1.0000, 1.0000, 1.0000, 1.0000, 1.0000, 1.0000,\n",
            "        1.0000, 1.0000])\n",
            "attention shape = torch.Size([11, 11])\n",
            "output = 2 0 0 2 - 0 2 - 0 5 <EOS>\n",
            "['5', '/', 'feb', '/', '2', '0', '0', '2', 'EOS']\n"
          ]
        },
        {
          "output_type": "display_data",
          "data": {
            "text/plain": [
              "<Figure size 432x288 with 2 Axes>"
            ],
            "image/png": "[encoded data removed]"
          },
          "metadata": {
            "needs_background": "light"
          }
        },
        {
          "output_type": "stream",
          "name": "stdout",
          "text": [
            "\n",
            "input = mar/9/1992\n",
            "tensor([[3.8862e-16, 1.3285e-15, 4.6290e-17, 1.0419e-13, 5.1549e-14, 1.0000e+00,\n",
            "         3.1308e-15, 3.9232e-12, 1.9727e-16, 1.8998e-13, 3.6270e-13],\n",
            "        [2.1341e-08, 9.9976e-01, 6.2295e-14, 2.3603e-04, 1.3498e-08, 2.2738e-10,\n",
            "         1.5312e-11, 1.5267e-07, 3.0638e-09, 1.5624e-08, 3.2783e-08],\n",
            "        [4.7987e-12, 7.7266e-14, 2.7500e-10, 2.4458e-07, 2.5576e-08, 9.9614e-09,\n",
            "         3.2511e-07, 1.0000e+00, 1.3859e-07, 3.3628e-08, 2.0877e-08],\n",
            "        [8.0292e-11, 2.0232e-18, 9.8466e-14, 1.0842e-12, 1.0467e-10, 2.8672e-13,\n",
            "         5.7766e-11, 3.8665e-07, 1.0000e+00, 8.2558e-11, 1.3751e-10],\n",
            "        [1.6423e-04, 5.9545e-15, 4.7138e-08, 2.7431e-10, 1.4411e-09, 4.7151e-14,\n",
            "         1.9277e-14, 9.7801e-11, 9.9984e-01, 1.4324e-09, 1.7666e-09],\n",
            "        [1.0000e+00, 8.1051e-18, 2.7955e-11, 4.2756e-17, 1.1216e-12, 8.5789e-10,\n",
            "         1.0360e-19, 6.5440e-13, 2.3628e-08, 1.6673e-12, 1.8200e-12],\n",
            "        [9.9996e-01, 2.5926e-10, 1.2907e-09, 4.2102e-05, 3.3047e-08, 6.6621e-10,\n",
            "         1.6286e-13, 1.7208e-10, 1.0607e-08, 1.0111e-08, 1.2777e-08],\n",
            "        [2.5795e-07, 7.4253e-09, 1.0000e+00, 2.1163e-06, 6.5525e-08, 2.2944e-14,\n",
            "         8.4786e-09, 7.9451e-10, 1.2064e-08, 4.5869e-08, 5.4206e-08],\n",
            "        [9.4292e-07, 7.8726e-10, 4.9641e-05, 1.9906e-09, 2.9379e-09, 9.9995e-01,\n",
            "         2.1053e-14, 1.4998e-09, 3.1468e-11, 9.6408e-09, 9.6152e-09],\n",
            "        [1.7338e-05, 4.6706e-09, 1.8507e-06, 9.9986e-01, 6.0931e-07, 1.2106e-04,\n",
            "         1.1639e-11, 7.3068e-09, 1.9885e-09, 2.2266e-07, 3.4272e-07],\n",
            "        [1.7507e-12, 4.3180e-08, 9.9263e-01, 6.1368e-03, 5.3763e-06, 1.1259e-03,\n",
            "         2.6362e-07, 9.9193e-05, 9.9670e-08, 2.3423e-06, 4.3018e-06]])\n",
            "tensor([2.0001e+00, 9.9976e-01, 1.9927e+00, 1.0063e+00, 6.1278e-06, 2.0012e+00,\n",
            "        5.9729e-07, 1.0001e+00, 1.9998e+00, 2.6813e-06, 4.7766e-06])\n",
            "tensor([1.0000, 1.0000, 1.0000, 1.0000, 1.0000, 1.0000, 1.0000, 1.0000, 1.0000,\n",
            "        1.0000, 1.0000])\n",
            "attention shape = torch.Size([11, 11])\n",
            "output = 1 9 9 2 - 0 3 - 0 9 <EOS>\n",
            "['mar', '/', '9', '/', '1', '9', '9', '2', 'EOS']\n"
          ]
        },
        {
          "output_type": "display_data",
          "data": {
            "text/plain": [
              "<Figure size 432x288 with 2 Axes>"
            ],
            "image/png": "[encoded data removed]"
          },
          "metadata": {
            "needs_background": "light"
          }
        },
        {
          "output_type": "stream",
          "name": "stdout",
          "text": [
            "\n",
            "input = 2/apr/1986\n",
            "tensor([[1.4579e-09, 9.9946e-10, 1.3872e-12, 3.1700e-08, 2.8971e-09, 1.0000e+00,\n",
            "         4.4680e-13, 3.1521e-08, 2.5171e-08, 1.9999e-08, 1.7249e-08],\n",
            "        [2.8010e-08, 9.9989e-01, 2.2113e-13, 1.0643e-04, 1.7000e-08, 8.9803e-11,\n",
            "         1.3935e-12, 3.7801e-07, 1.3332e-08, 2.4004e-08, 3.6532e-08],\n",
            "        [6.2862e-10, 2.4630e-13, 2.4840e-10, 1.4762e-09, 1.0529e-08, 1.4490e-11,\n",
            "         1.9309e-09, 1.0000e+00, 3.3291e-06, 1.8210e-08, 1.1375e-08],\n",
            "        [9.6058e-08, 2.2974e-14, 4.5880e-12, 3.0586e-11, 7.7931e-10, 8.9311e-15,\n",
            "         8.0786e-14, 4.0041e-06, 1.0000e+00, 8.6624e-10, 7.5381e-10],\n",
            "        [7.9660e-05, 4.4141e-19, 2.8485e-05, 3.3479e-13, 2.4711e-10, 4.0635e-15,\n",
            "         2.9999e-15, 9.9361e-07, 9.9989e-01, 3.6867e-10, 3.4755e-10],\n",
            "        [1.0000e+00, 3.9748e-18, 2.0083e-08, 3.1080e-17, 4.9716e-12, 5.0152e-09,\n",
            "         1.9771e-19, 1.2383e-11, 1.9244e-08, 5.6063e-12, 5.9519e-12],\n",
            "        [1.0000e+00, 4.4660e-11, 1.5093e-09, 4.4986e-06, 1.5137e-08, 9.7964e-11,\n",
            "         3.7198e-13, 5.2409e-11, 1.7099e-09, 3.2146e-09, 3.2166e-09],\n",
            "        [5.3132e-11, 4.2428e-10, 9.9999e-01, 2.9530e-06, 1.3202e-07, 5.7177e-07,\n",
            "         1.5212e-06, 2.7936e-10, 6.3589e-08, 5.4574e-08, 9.5104e-08],\n",
            "        [1.7938e-10, 5.3892e-15, 8.2434e-09, 1.4561e-10, 1.4796e-11, 1.0000e+00,\n",
            "         1.3022e-17, 1.8601e-09, 2.3300e-13, 4.7788e-11, 5.8311e-11],\n",
            "        [1.5134e-05, 7.1341e-09, 8.3831e-08, 9.9995e-01, 3.2613e-07, 3.1759e-05,\n",
            "         5.4316e-12, 1.4548e-09, 7.1346e-09, 1.6771e-07, 2.1558e-07],\n",
            "        [4.4477e-10, 8.3138e-07, 2.6772e-01, 7.3188e-01, 1.0551e-05, 3.3004e-04,\n",
            "         1.2853e-08, 5.3859e-09, 3.5649e-05, 7.0718e-06, 2.2729e-05]])\n",
            "tensor([2.0001e+00, 9.9989e-01, 1.2677e+00, 1.7319e+00, 1.1056e-05, 2.0004e+00,\n",
            "        1.5360e-06, 1.0000e+00, 1.9999e+00, 7.3608e-06, 2.3109e-05])\n",
            "tensor([1.0000, 1.0000, 1.0000, 1.0000, 1.0000, 1.0000, 1.0000, 1.0000, 1.0000,\n",
            "        1.0000, 1.0000])\n",
            "attention shape = torch.Size([11, 11])\n",
            "output = 1 9 8 6 - 0 4 - 0 2 <EOS>\n",
            "['2', '/', 'apr', '/', '1', '9', '8', '6', 'EOS']\n"
          ]
        },
        {
          "output_type": "display_data",
          "data": {
            "text/plain": [
              "<Figure size 432x288 with 2 Axes>"
            ],
            "image/png": "[encoded data removed]"
          },
          "metadata": {
            "needs_background": "light"
          }
        },
        {
          "output_type": "error",
          "ename": "KeyboardInterrupt",
          "evalue": "ignored",
          "traceback": [
            "\u001b[0;31m---------------------------------------------------------------------------\u001b[0m",
            "\u001b[0;31mKeyboardInterrupt\u001b[0m                         Traceback (most recent call last)",
            "\u001b[0;32m<ipython-input-65-99bbb4f7b0e5>\u001b[0m in \u001b[0;36m<module>\u001b[0;34m\u001b[0m\n\u001b[1;32m      1\u001b[0m \u001b[0;32mfor\u001b[0m \u001b[0mi\u001b[0m \u001b[0;32min\u001b[0m \u001b[0mrange\u001b[0m\u001b[0;34m(\u001b[0m\u001b[0mlen\u001b[0m\u001b[0;34m(\u001b[0m\u001b[0mdf_test\u001b[0m\u001b[0;34m)\u001b[0m\u001b[0;34m)\u001b[0m\u001b[0;34m:\u001b[0m\u001b[0;34m\u001b[0m\u001b[0;34m\u001b[0m\u001b[0m\n\u001b[1;32m      2\u001b[0m   \u001b[0mevaluateAndShowAttention\u001b[0m\u001b[0;34m(\u001b[0m\u001b[0mdf_test\u001b[0m\u001b[0;34m.\u001b[0m\u001b[0miloc\u001b[0m\u001b[0;34m[\u001b[0m\u001b[0mi\u001b[0m\u001b[0;34m]\u001b[0m\u001b[0;34m[\u001b[0m\u001b[0;34m\"Source\"\u001b[0m\u001b[0;34m]\u001b[0m\u001b[0;34m)\u001b[0m\u001b[0;34m\u001b[0m\u001b[0;34m\u001b[0m\u001b[0m\n\u001b[0;32m----> 3\u001b[0;31m   \u001b[0mx\u001b[0m \u001b[0;34m=\u001b[0m \u001b[0minput\u001b[0m\u001b[0;34m(\u001b[0m\u001b[0;34m)\u001b[0m\u001b[0;34m\u001b[0m\u001b[0;34m\u001b[0m\u001b[0m\n\u001b[0m",
            "\u001b[0;32m/usr/local/lib/python3.7/dist-packages/ipykernel/kernelbase.py\u001b[0m in \u001b[0;36mraw_input\u001b[0;34m(self, prompt)\u001b[0m\n\u001b[1;32m    861\u001b[0m             \u001b[0mself\u001b[0m\u001b[0;34m.\u001b[0m\u001b[0m_parent_ident\u001b[0m\u001b[0;34m,\u001b[0m\u001b[0;34m\u001b[0m\u001b[0;34m\u001b[0m\u001b[0m\n\u001b[1;32m    862\u001b[0m             \u001b[0mself\u001b[0m\u001b[0;34m.\u001b[0m\u001b[0m_parent_header\u001b[0m\u001b[0;34m,\u001b[0m\u001b[0;34m\u001b[0m\u001b[0;34m\u001b[0m\u001b[0m\n\u001b[0;32m--> 863\u001b[0;31m             \u001b[0mpassword\u001b[0m\u001b[0;34m=\u001b[0m\u001b[0;32mFalse\u001b[0m\u001b[0;34m,\u001b[0m\u001b[0;34m\u001b[0m\u001b[0;34m\u001b[0m\u001b[0m\n\u001b[0m\u001b[1;32m    864\u001b[0m         )\n\u001b[1;32m    865\u001b[0m \u001b[0;34m\u001b[0m\u001b[0m\n",
            "\u001b[0;32m/usr/local/lib/python3.7/dist-packages/ipykernel/kernelbase.py\u001b[0m in \u001b[0;36m_input_request\u001b[0;34m(self, prompt, ident, parent, password)\u001b[0m\n\u001b[1;32m    902\u001b[0m             \u001b[0;32mexcept\u001b[0m \u001b[0mKeyboardInterrupt\u001b[0m\u001b[0;34m:\u001b[0m\u001b[0;34m\u001b[0m\u001b[0;34m\u001b[0m\u001b[0m\n\u001b[1;32m    903\u001b[0m                 \u001b[0;31m# re-raise KeyboardInterrupt, to truncate traceback\u001b[0m\u001b[0;34m\u001b[0m\u001b[0;34m\u001b[0m\u001b[0;34m\u001b[0m\u001b[0m\n\u001b[0;32m--> 904\u001b[0;31m                 \u001b[0;32mraise\u001b[0m \u001b[0mKeyboardInterrupt\u001b[0m\u001b[0;34m(\u001b[0m\u001b[0;34m\"Interrupted by user\"\u001b[0m\u001b[0;34m)\u001b[0m \u001b[0;32mfrom\u001b[0m \u001b[0;32mNone\u001b[0m\u001b[0;34m\u001b[0m\u001b[0;34m\u001b[0m\u001b[0m\n\u001b[0m\u001b[1;32m    905\u001b[0m             \u001b[0;32mexcept\u001b[0m \u001b[0mException\u001b[0m \u001b[0;32mas\u001b[0m \u001b[0me\u001b[0m\u001b[0;34m:\u001b[0m\u001b[0;34m\u001b[0m\u001b[0;34m\u001b[0m\u001b[0m\n\u001b[1;32m    906\u001b[0m                 \u001b[0mself\u001b[0m\u001b[0;34m.\u001b[0m\u001b[0mlog\u001b[0m\u001b[0;34m.\u001b[0m\u001b[0mwarning\u001b[0m\u001b[0;34m(\u001b[0m\u001b[0;34m\"Invalid Message:\"\u001b[0m\u001b[0;34m,\u001b[0m \u001b[0mexc_info\u001b[0m\u001b[0;34m=\u001b[0m\u001b[0;32mTrue\u001b[0m\u001b[0;34m)\u001b[0m\u001b[0;34m\u001b[0m\u001b[0;34m\u001b[0m\u001b[0m\n",
            "\u001b[0;31mKeyboardInterrupt\u001b[0m: Interrupted by user"
          ]
        }
      ],
      "source": [
        "for i in range(len(df_test)):\n",
        "  evaluateAndShowAttention(df_test.iloc[i][\"Source\"])\n",
        "  x = input()"
      ]
    },
    {
      "cell_type": "code",
      "source": [
        "evaluateAndShowAttention(df_test.iloc[0][\"Source\"])\n",
        "df_test.iloc[0][\"Target\"]"
      ],
      "metadata": {
        "colab": {
          "base_uri": "https://localhost:8080/",
          "height": 799
        },
        "id": "_K8IskioepsT",
        "outputId": "24a9eb30-d195-4b0e-a0c9-5f7d9e78bd04"
      },
      "id": "_K8IskioepsT",
      "execution_count": null,
      "outputs": [
        {
          "output_type": "stream",
          "name": "stdout",
          "text": [
            "input = 18/01/1976\n",
            "tensor([[2.2082e-13, 3.1477e-13, 1.1124e-13, 6.2484e-13, 5.2149e-13, 1.0000e+00,\n",
            "         9.6304e-15, 7.8530e-14, 3.3162e-16, 4.7090e-12, 5.4810e-12],\n",
            "        [2.2374e-07, 9.9855e-01, 1.3722e-11, 1.4489e-03, 1.3942e-07, 8.6482e-11,\n",
            "         1.7326e-11, 1.3902e-06, 1.9817e-07, 1.3787e-07, 3.3407e-07],\n",
            "        [2.7490e-08, 2.8465e-11, 1.9692e-08, 3.4139e-07, 7.7251e-08, 2.0733e-11,\n",
            "         3.2714e-11, 1.0000e+00, 1.9135e-07, 6.2010e-08, 5.5926e-08],\n",
            "        [2.6787e-09, 2.7074e-14, 1.2593e-13, 1.5973e-11, 1.2777e-10, 8.2814e-17,\n",
            "         2.1241e-12, 1.9904e-09, 1.0000e+00, 1.4974e-10, 1.1093e-10],\n",
            "        [1.7169e-06, 2.8587e-18, 4.3592e-06, 4.3345e-12, 1.3563e-10, 1.6022e-16,\n",
            "         1.7392e-16, 7.5149e-10, 9.9999e-01, 1.3083e-10, 9.3816e-11],\n",
            "        [9.9997e-01, 3.6073e-17, 9.7159e-07, 2.8029e-14, 8.1992e-11, 1.0405e-09,\n",
            "         2.7920e-20, 2.5267e-11, 3.3121e-05, 1.1009e-10, 6.7598e-11],\n",
            "        [9.9990e-01, 2.5464e-09, 6.4227e-10, 1.0424e-04, 4.5838e-08, 2.2019e-11,\n",
            "         1.1104e-13, 1.9389e-10, 4.5660e-09, 6.4727e-09, 8.0271e-09],\n",
            "        [1.3563e-08, 3.7287e-09, 9.9998e-01, 9.6857e-06, 9.2649e-07, 7.0441e-09,\n",
            "         5.0774e-06, 1.8982e-09, 1.8442e-06, 3.2097e-07, 4.1767e-07],\n",
            "        [6.3680e-10, 3.8043e-14, 2.9607e-08, 5.6915e-11, 1.5432e-10, 1.0000e+00,\n",
            "         5.9942e-13, 7.5293e-10, 3.3249e-12, 3.0420e-10, 5.3064e-10],\n",
            "        [3.0478e-06, 7.0195e-06, 5.8167e-10, 9.9999e-01, 3.0795e-07, 6.2760e-07,\n",
            "         1.4688e-07, 2.2759e-10, 3.8464e-09, 1.1514e-07, 2.3820e-07],\n",
            "        [1.3021e-09, 1.0595e-07, 8.9876e-01, 7.4902e-02, 5.9684e-05, 2.5970e-02,\n",
            "         1.4998e-06, 2.2160e-04, 2.2295e-06, 3.0765e-05, 5.6098e-05]])\n",
            "tensor([1.9999e+00, 9.9856e-01, 1.8987e+00, 1.0765e+00, 6.1181e-05, 2.0260e+00,\n",
            "        6.7241e-06, 1.0002e+00, 2.0000e+00, 3.1408e-05, 5.7153e-05])\n",
            "tensor([1.0000, 1.0000, 1.0000, 1.0000, 1.0000, 1.0000, 1.0000, 1.0000, 1.0000,\n",
            "        1.0000, 1.0000])\n",
            "attention shape = torch.Size([11, 11])\n",
            "output = 1 9 7 7 - 0 1 - 1 8 <EOS>\n",
            "['1', '8', '/', '0', '1', '/', '1', '9', '7', '6', 'EOS']\n"
          ]
        },
        {
          "output_type": "display_data",
          "data": {
            "text/plain": [
              "<Figure size 432x288 with 2 Axes>"
            ],
            "image/png": "[encoded data removed]"
          },
          "metadata": {
            "needs_background": "light"
          }
        },
        {
          "output_type": "execute_result",
          "data": {
            "text/plain": [
              "'1976-01-18'"
            ],
            "application/vnd.google.colaboratory.intrinsic+json": {
              "type": "string"
            }
          },
          "metadata": {},
          "execution_count": 68
        }
      ]
    },
    {
      "cell_type": "code",
      "source": [
        "\n",
        "evaluateAndShowAttention(df_test.iloc[10][\"Source\"])"
      ],
      "metadata": {
        "colab": {
          "base_uri": "https://localhost:8080/",
          "height": 781
        },
        "id": "PMPXlD0aezTy",
        "outputId": "fe15336f-aac6-4472-e241-e076485074e2"
      },
      "id": "PMPXlD0aezTy",
      "execution_count": null,
      "outputs": [
        {
          "output_type": "stream",
          "name": "stdout",
          "text": [
            "input = jun/26/1997\n",
            "tensor([[2.0701e-10, 5.9322e-12, 1.4171e-16, 2.1525e-10, 1.2247e-10, 1.0000e+00,\n",
            "         9.6958e-09, 3.6564e-10, 3.0876e-11, 3.2662e-10, 7.2572e-10],\n",
            "        [6.2248e-08, 9.9958e-01, 3.3022e-13, 4.2148e-04, 5.2139e-08, 4.0734e-10,\n",
            "         1.9729e-11, 1.2552e-06, 2.7590e-08, 7.1282e-08, 1.2968e-07],\n",
            "        [1.2816e-12, 4.1650e-14, 1.4056e-10, 4.8646e-08, 8.6779e-09, 1.4459e-09,\n",
            "         1.1423e-07, 1.0000e+00, 2.2691e-08, 1.3527e-08, 1.1290e-08],\n",
            "        [8.3351e-11, 3.5098e-16, 1.3493e-14, 1.1602e-11, 8.8315e-11, 5.9719e-16,\n",
            "         1.1812e-10, 4.9217e-07, 1.0000e+00, 1.1710e-10, 1.0959e-10],\n",
            "        [5.5312e-06, 1.4278e-17, 6.2900e-07, 1.9327e-12, 6.5850e-10, 5.4048e-13,\n",
            "         8.9360e-14, 3.9958e-08, 9.9999e-01, 1.4391e-09, 8.8680e-10],\n",
            "        [1.0000e+00, 9.9903e-17, 4.1571e-09, 4.0571e-14, 5.2924e-11, 1.9727e-09,\n",
            "         7.9761e-19, 7.3715e-12, 2.3099e-08, 3.4213e-11, 2.1658e-11],\n",
            "        [9.9999e-01, 3.9147e-11, 8.1681e-10, 6.3143e-06, 1.5016e-08, 2.7512e-10,\n",
            "         1.1436e-13, 7.6775e-11, 5.0892e-09, 4.0898e-09, 5.5232e-09],\n",
            "        [3.6376e-06, 9.1275e-12, 9.9998e-01, 1.9580e-06, 4.2870e-07, 2.4503e-09,\n",
            "         2.9393e-06, 3.6495e-08, 5.6275e-06, 4.7028e-07, 4.1120e-07],\n",
            "        [4.0650e-09, 1.6350e-11, 2.0110e-07, 7.6831e-08, 2.1664e-09, 1.0000e+00,\n",
            "         4.4061e-15, 2.7751e-07, 1.0478e-11, 2.6644e-09, 4.8379e-09],\n",
            "        [2.2992e-10, 4.0949e-07, 1.2326e-12, 1.0000e+00, 4.6338e-09, 5.6052e-09,\n",
            "         4.3737e-09, 1.8316e-11, 7.9689e-12, 1.9845e-09, 4.5570e-09],\n",
            "        [1.8496e-08, 9.2470e-06, 7.6081e-02, 7.1949e-01, 1.9045e-04, 1.6372e-01,\n",
            "         2.7954e-05, 3.9772e-02, 3.8986e-05, 2.7567e-04, 3.9903e-04]])\n",
            "tensor([2.0000e+00, 9.9959e-01, 1.0761e+00, 1.7199e+00, 1.9096e-04, 2.1637e+00,\n",
            "        3.1022e-05, 1.0398e+00, 2.0000e+00, 2.7624e-04, 3.9960e-04])\n",
            "tensor([1.0000, 1.0000, 1.0000, 1.0000, 1.0000, 1.0000, 1.0000, 1.0000, 1.0000,\n",
            "        1.0000, 1.0000])\n",
            "attention shape = torch.Size([11, 11])\n",
            "output = 1 9 9 7 - 0 6 - 2 6 <EOS>\n",
            "['jun', '/', '2', '6', '/', '1', '9', '9', '7', 'EOS']\n"
          ]
        },
        {
          "output_type": "display_data",
          "data": {
            "text/plain": [
              "<Figure size 432x288 with 2 Axes>"
            ],
            "image/png": "[encoded data removed]"
          },
          "metadata": {
            "needs_background": "light"
          }
        }
      ]
    },
    {
      "cell_type": "markdown",
      "id": "8d31c4ce",
      "metadata": {
        "id": "8d31c4ce"
      },
      "source": [
        "## Rough"
      ]
    },
    {
      "cell_type": "code",
      "execution_count": null,
      "id": "ea473397",
      "metadata": {
        "id": "ea473397"
      },
      "outputs": [],
      "source": [
        "tmp=df['Source'][0]\n",
        "tmp='20/02/1998'\n",
        "print(tmp)\n",
        "\n",
        "words=tmp.split('/')\n",
        "\n",
        "# d = \"/\"\n",
        "\n",
        "# words = [e+d for e in tmp.split(d) if e]\n",
        "# print(words)\n",
        "\n",
        "\n",
        "nums=[]\n",
        "print(words)\n",
        "for w in words:\n",
        "    if w.isdigit():\n",
        "        nums.extend(c for c in w)\n",
        "    else:\n",
        "        nums.append(w)\n",
        "        \n",
        "    nums.append(\"/\")\n",
        "nums=nums[:-1]\n",
        "print(nums)\n",
        "        "
      ]
    },
    {
      "cell_type": "code",
      "execution_count": null,
      "id": "ec216a21",
      "metadata": {
        "collapsed": true,
        "id": "ec216a21"
      },
      "outputs": [],
      "source": [
        "for i, row in enumerate(df.values):\n",
        "    print(row[0])"
      ]
    },
    {
      "cell_type": "code",
      "execution_count": null,
      "id": "58a340bd",
      "metadata": {
        "id": "58a340bd"
      },
      "outputs": [],
      "source": [
        "tmp=df['Target'][0]\n",
        "# tmp='20/02/1998'\n",
        "print(tmp)\n",
        "\n",
        "words=tmp.split('-')\n",
        "\n",
        "# d = \"/\"\n",
        "\n",
        "# words = [e+d for e in tmp.split(d) if e]\n",
        "# print(words)\n",
        "\n",
        "\n",
        "nums=[]\n",
        "print(words)\n",
        "for w in words:\n",
        "    if w.isdigit():\n",
        "        nums.extend(c for c in w)\n",
        "    else:\n",
        "        nums.append(w)\n",
        "        \n",
        "    nums.append(\"-\")\n",
        "nums=nums[:-1]\n",
        "print(nums)\n",
        "        "
      ]
    },
    {
      "cell_type": "code",
      "execution_count": null,
      "id": "c6a4ad88",
      "metadata": {
        "id": "c6a4ad88"
      },
      "outputs": [],
      "source": [
        "x=df.sample()\n",
        "print(x)\n",
        "print([x.iloc[0][\"Source\"],x.iloc[0][\"Target\"]])"
      ]
    },
    {
      "cell_type": "code",
      "execution_count": null,
      "id": "1bd1b23c",
      "metadata": {
        "collapsed": true,
        "id": "1bd1b23c"
      },
      "outputs": [],
      "source": [
        "for i in range(len(df_valid)):\n",
        "    print(df_valid.iloc[0]['Source'])\n",
        "    print(df_valid.iloc[0]['Target'])"
      ]
    },
    {
      "cell_type": "code",
      "execution_count": null,
      "id": "3ebf9ba1",
      "metadata": {
        "id": "3ebf9ba1"
      },
      "outputs": [],
      "source": []
    }
  ],
  "metadata": {
    "kernelspec": {
      "display_name": "Python 3 (ipykernel)",
      "language": "python",
      "name": "python3"
    },
    "language_info": {
      "codemirror_mode": {
        "name": "ipython",
        "version": 3
      },
      "file_extension": ".py",
      "mimetype": "text/x-python",
      "name": "python",
      "nbconvert_exporter": "python",
      "pygments_lexer": "ipython3",
      "version": "3.10.6"
    },
    "colab": {
      "provenance": [],
      "collapsed_sections": [
        "8d31c4ce"
      ]
    },
    "accelerator": "GPU"
  },
  "nbformat": 4,
  "nbformat_minor": 5
}